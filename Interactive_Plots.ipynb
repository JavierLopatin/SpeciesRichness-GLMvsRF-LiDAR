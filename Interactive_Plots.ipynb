{
 "cells": [
  {
   "cell_type": "code",
   "execution_count": 3,
   "metadata": {
    "collapsed": false
   },
   "outputs": [],
   "source": [
    "library(rbokeh)\n",
    "load(\"~/Dropbox/Publicaciones/SpeciesRichness-GLMvsRF-LiDAR/Maps.RData\")"
   ]
  },
  {
   "cell_type": "code",
   "execution_count": 5,
   "metadata": {
    "collapsed": false
   },
   "outputs": [
    {
     "data": {
      "text/plain": [
       "HTML widgets cannot be represented in plain text (need html)"
      ]
     },
     "metadata": {},
     "output_type": "display_data"
    },
    {
     "data": {
      "text/plain": [
       "HTML widgets cannot be represented in plain text (need html)"
      ]
     },
     "metadata": {},
     "output_type": "display_data"
    },
    {
     "data": {
      "text/plain": [
       "HTML widgets cannot be represented in plain text (need html)"
      ]
     },
     "metadata": {},
     "output_type": "display_data"
    },
    {
     "data": {
      "text/plain": [
       "HTML widgets cannot be represented in plain text (need html)"
      ]
     },
     "metadata": {},
     "output_type": "display_data"
    },
    {
     "data": {
      "text/plain": [
       "HTML widgets cannot be represented in plain text (need html)"
      ]
     },
     "metadata": {},
     "output_type": "display_data"
    }
   ],
   "source": [
    "rotate <- function(x) t(apply(x, 2, rev))\n",
    "T_Rich <- figure() %>%\n",
    "  ly_image(z = rotate(as.matrix(preds_T)), cols = preds_T@ncols, rows = preds_T@nrows, palette = \"Spectral10\")\n",
    "T_Rich\n",
    "\n",
    "A_Rich <- figure() %>%\n",
    "  ly_image(z = rotate(as.matrix(preds_A)), cols = preds_A@ncols, rows = preds_A@nrows, palette = \"Spectral10\")\n",
    "A_Rich\n",
    "\n",
    "AR_Rich <- figure() %>%\n",
    "  ly_image(z = rotate(as.matrix(preds_AR)), cols = preds_AR@ncols, rows = preds_AR@nrows, palette = \"Spectral10\")\n",
    "AR_Rich\n",
    "\n",
    "H_Rich <- figure() %>%\n",
    "  ly_image(z = rotate(as.matrix(preds_AR)), cols = preds_H@ncols, rows = preds_H@nrows, palette = \"Spectral10\")\n",
    "H_Rich\n",
    "\n",
    "list <- list(T_Rich, A_Rich, AR_Rich, H_Rich)\n",
    "\n",
    "grid_plot(list, nrow = 2)\n"
   ]
  }
 ],
 "metadata": {
  "kernelspec": {
   "display_name": "R",
   "language": "R",
   "name": "ir"
  },
  "language_info": {
   "codemirror_mode": "r",
   "file_extension": ".r",
   "mimetype": "text/x-r-source",
   "name": "R",
   "pygments_lexer": "r",
   "version": "3.3.0"
  }
 },
 "nbformat": 4,
 "nbformat_minor": 0
}
