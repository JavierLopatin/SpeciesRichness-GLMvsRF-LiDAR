{
 "cells": [
  {
   "cell_type": "markdown",
   "metadata": {},
   "source": [
    "\n",
    "## Coefficient of variation maps\n",
    "### author: Javier Lopatin\n",
    "### mail: javierlopatin@gmail.com\n",
    "### Manuscript: Comparing Generalized Linear Models and random forest to model vascular plant species richness using LiDAR data in a natural forest in central Chile\n",
    "### last changes: 12/11/2015\n",
    "## ==============================================================\n",
    "\n",
    "### load the require packages"
   ]
  },
  {
   "cell_type": "code",
   "execution_count": 5,
   "metadata": {
    "collapsed": false
   },
   "outputs": [
    {
     "name": "stderr",
     "output_type": "stream",
     "text": [
      "Loading required package: rgdal\n",
      "rgdal: version: 1.1-10, (SVN revision 622)\n",
      " Geospatial Data Abstraction Library extensions to R successfully loaded\n",
      " Loaded GDAL runtime: GDAL 2.0.1, released 2015/09/15\n",
      " Path to GDAL shared files: C:/Users/Lopatin/Documents/R/win-library/3.3/rgdal/gdal\n",
      " Loaded PROJ.4 runtime: Rel. 4.9.2, 08 September 2015, [PJ_VERSION: 492]\n",
      " Path to PROJ.4 shared files: C:/Users/Lopatin/Documents/R/win-library/3.3/rgdal/proj\n",
      " Linking to sp version: 1.2-3 \n",
      "Loading required package: MASS\n",
      "\n",
      "Attaching package: 'MASS'\n",
      "\n",
      "The following objects are masked from 'package:raster':\n",
      "\n",
      "    area, select\n",
      "\n",
      "Loading required package: alphahull\n",
      "Warning message:\n",
      ": package 'alphahull' was built under R version 3.3.1Loading required package: GISTools\n",
      "Warning message:\n",
      ": package 'GISTools' was built under R version 3.3.1Loading required package: maptools\n",
      "Checking rgeos availability: TRUE\n",
      "Loading required package: RColorBrewer\n",
      "Loading required package: rgeos\n",
      "rgeos version: 0.3-19, (SVN revision 524)\n",
      " GEOS runtime version: 3.5.0-CAPI-1.9.0 r4084 \n",
      " Linking to sp version: 1.2-3 \n",
      " Polygon checking: TRUE \n",
      "\n",
      "Loading required package: tripack\n"
     ]
    },
    {
     "data": {
      "text/html": [
       "<ol>\n",
       "\t<li>TRUE</li>\n",
       "\t<li>TRUE</li>\n",
       "\t<li>TRUE</li>\n",
       "\t<li>TRUE</li>\n",
       "\t<li>TRUE</li>\n",
       "\t<li>TRUE</li>\n",
       "</ol>\n"
      ],
      "text/latex": [
       "\\begin{enumerate}\n",
       "\\item TRUE\n",
       "\\item TRUE\n",
       "\\item TRUE\n",
       "\\item TRUE\n",
       "\\item TRUE\n",
       "\\item TRUE\n",
       "\\end{enumerate}\n"
      ],
      "text/markdown": [
       "1. TRUE\n",
       "2. TRUE\n",
       "3. TRUE\n",
       "4. TRUE\n",
       "5. TRUE\n",
       "6. TRUE\n",
       "\n",
       "\n"
      ],
      "text/plain": [
       "[[1]]\n",
       "[1] TRUE\n",
       "\n",
       "[[2]]\n",
       "[1] TRUE\n",
       "\n",
       "[[3]]\n",
       "[1] TRUE\n",
       "\n",
       "[[4]]\n",
       "[1] TRUE\n",
       "\n",
       "[[5]]\n",
       "[1] TRUE\n",
       "\n",
       "[[6]]\n",
       "[1] TRUE\n"
      ]
     },
     "metadata": {},
     "output_type": "display_data"
    }
   ],
   "source": [
    "pkgs<-c(\"rgdal\", \"raster\", \"MASS\", \"alphahull\", \"GISTools\", \"tripack\")\n",
    "lapply(pkgs, require, character.only=T)"
   ]
  },
  {
   "cell_type": "code",
   "execution_count": 1,
   "metadata": {
    "collapsed": true
   },
   "outputs": [],
   "source": [
    "# set working directory\n",
    "setwd(\"C:/Users/Lopatin/Dropbox/Publicaciones/SpeciesRichness-GLMvsRF-LiDAR\")"
   ]
  },
  {
   "cell_type": "markdown",
   "metadata": {},
   "source": [
    "### Load data \n",
    "#### \"dat\" contains the observations and predictions at plot level, while \"map\" contains the predictors in a systematic grid of 30m x 30m\n",
    "#### Both data must have the same column, names and order \n"
   ]
  },
  {
   "cell_type": "code",
   "execution_count": 7,
   "metadata": {
    "collapsed": true
   },
   "outputs": [],
   "source": [
    "dat <- read.table(\"Richness_model.csv\", header=T, sep=\",\", dec=\".\") \n",
    "map <- read.table(\"Maps.csv\", header=T, sep=\",\", dec=\".\")"
   ]
  },
  {
   "cell_type": "markdown",
   "metadata": {},
   "source": [
    "### Create the bootstrapping predicted richness in all area.\n",
    "### Use the \"dat\" data for training and the \"map\" data for predict. "
   ]
  },
  {
   "cell_type": "code",
   "execution_count": 8,
   "metadata": {
    "collapsed": false
   },
   "outputs": [
    {
     "ename": "ERROR",
     "evalue": "Error in eval(expr, envir, enclos): object 'A_RICH' not found\n",
     "output_type": "error",
     "traceback": [
      "Error in eval(expr, envir, enclos): object 'A_RICH' not found\nTraceback:\n",
      "1. glm(A_RICH ~ one_mean + DTM_1_mean + slope_1m_std, data = train, \n .     family = negative.binomial(theta = 1, link = \"log\"))   # at line 25 of file <text>",
      "2. eval(mf, parent.frame())",
      "3. eval(expr, envir, enclos)",
      "4. stats::model.frame(formula = A_RICH ~ one_mean + DTM_1_mean + \n .     slope_1m_std, data = train, drop.unused.levels = TRUE)",
      "5. model.frame.default(formula = A_RICH ~ one_mean + DTM_1_mean + \n .     slope_1m_std, data = train, drop.unused.levels = TRUE)",
      "6. eval(predvars, data, env)",
      "7. eval(expr, envir, enclos)"
     ]
    }
   ],
   "source": [
    "# Bootstrapping the map\n",
    "N = length(dat[,1]) # N° observations\n",
    "B = 500  # N° of bootraps iterations\n",
    "\n",
    "# Total\n",
    "Pred.map<-list()\n",
    "ID.map<-list()\n",
    "for(i in 1:B){\n",
    "  idx = sample(1:N, N, replace = T)\n",
    "  train = dat[idx,] \n",
    "  ID<-map$ID\n",
    "  ID.map [[i]]<-ID\n",
    "  # train the model using the \"dat\" data\n",
    "  ms <- glm(Total_richness ~  one_mean + DTM_1_mean + slope_1m_std, data=train,  family=negative.binomial(theta=1 , link=\"log\"))\n",
    "  # predict using the \"map\" data\n",
    "  Pred<-stats:::predict(ms, newdata=map, type=\"response\")\n",
    "  Pred.map[[i]]<-Pred\n",
    "}\n",
    "\n",
    "# Tree\n",
    "Pred.map.A<-list()\n",
    "for(i in 1:B){\n",
    "  idx = sample(1:N, N, replace = T)\n",
    "  train = dat[idx,] \n",
    "  ms <- glm(A_RICH ~  one_mean + DTM_1_mean + slope_1m_std, data=train,  family=negative.binomial(theta=1 , link=\"log\"))\n",
    "  Pred<-stats:::predict(ms, newdata=map, type=\"response\")\n",
    "  Pred.map.A[[i]]<-Pred\n",
    "}\n",
    "\n",
    "# Shrub\n",
    "Pred.map.AR<-list()\n",
    "for(i in 1:B){\n",
    "  idx = sample(1:N, N, replace = T)\n",
    "  train = dat[idx,] \n",
    "  ms <- glm(AR_RICH ~  one_mean + DTM_1_mean + slope_1m_std, data=train,  family=negative.binomial(theta=1 , link=\"log\"))\n",
    "  Pred<-stats:::predict(ms, newdata=map, type=\"response\")\n",
    "  Pred.map.AR[[i]]<-Pred\n",
    "}\n",
    "\n",
    "# Herb\n",
    "Pred.map.H<-list()\n",
    "for(i in 1:B){\n",
    "  idx = sample(1:N, N, replace = T)\n",
    "  train = dat[idx,] \n",
    "  ms <- glm(Herb_richness ~  one_mean + DTM_1_mean + slope_1m_std, data=train,  family=negative.binomial(theta=1 , link=\"log\"))\n",
    "  Pred<-stats:::predict(ms, newdata=map, type=\"response\")\n",
    "  Pred.map.H[[i]]<-Pred\n",
    "}\n",
    "\n",
    "# save values\n",
    "save.image(\"CV_map.RData\")"
   ]
  },
  {
   "cell_type": "code",
   "execution_count": null,
   "metadata": {
    "collapsed": false
   },
   "outputs": [],
   "source": [
    "# Store the bootstrap predictions \n",
    "write.table(ID.map,      file=\"ID_map.txt\",      sep=\"\\t\", row.names = F)\n",
    "write.table(Pred.map,    file=\"Pred_map.txt\",    sep=\"\\t\", row.names = F)\n",
    "write.table(Pred.map.A,  file=\"Pred_map.A.txt\",  sep=\"\\t\", row.names = F)\n",
    "write.table(Pred.map.AR, file=\"Pred_map.AR.txt\", sep=\"\\t\", row.names = F)\n",
    "write.table(Pred.map.H,  file=\"Pred_map.H.txt\",  sep=\"\\t\", row.names = F)\n",
    "\n",
    "# Manage the data\n",
    "data_ID    <- read.table(\"ID_map.txt\", header=F)\n",
    "data_Total <- read.table(\"Pred_map.txt\", header=F) \n",
    "data_Tree  <- read.table(\"Pred_map.A.txt\", header=F)\n",
    "data_Shrub <- read.table(\"Pred_map.AR.txt\", header=F)\n",
    "data_Herb  <- read.table(\"Pred_map.H.txt\", header=F)\n",
    "\n",
    "data_ID    <- t(data_ID)\n",
    "data_Total <- t(data_Total)\n",
    "data_Tree  <- t(data_Tree)\n",
    "data_Shrub <- t(data_Shrub)\n",
    "data_Herb  <- t(data_Herb)\n",
    "\n",
    "# CV values\n",
    "cv_Total <- list()\n",
    "cv_Tree  <- list()\n",
    "cv_shrub <- list()\n",
    "cv_Herb  <- list()\n",
    "\n",
    "for (i in 1:length(data_Total[1,])){\n",
    "  cv1 <- cv(data_Total[,i])\n",
    "  cv2 <- cv(data_Tree[,i])\n",
    "  cv3 <- cv(data_Shrub[,i])\n",
    "  cv4 <- cv(data_Herb[,i])\n",
    "  \n",
    "  cv_Total[[i]] <- cv1\n",
    "  cv_Tree[[i]]  <- cv2\n",
    "  cv_shrub[[i]] <- cv3\n",
    "  cv_Herb[[i]]  <- cv4\n",
    "}\n",
    "\n",
    "save.image(\"CV_map.RData\")"
   ]
  },
  {
   "cell_type": "code",
   "execution_count": null,
   "metadata": {
    "collapsed": true
   },
   "outputs": [],
   "source": [
    "# write the results with the map ID\n",
    "cv_total_map <- data.frame(map$ID, unlist(cv_Total))\n",
    "cv_tree_map  <- data.frame(map$ID, unlist(cv_Tree))\n",
    "cv_shrub_map <- data.frame(map$ID, unlist(cv_shrub))\n",
    "cv_herb_map  <- data.frame(map$ID, unlist(cv_Herb))\n",
    "\n",
    "colnames(cv_total_map) <- c(\"ID\", \"CV\")\n",
    "colnames(cv_tree_map)  <- c(\"ID\", \"CV\")\n",
    "colnames(cv_shrub_map) <- c(\"ID\", \"CV\")\n",
    "colnames(cv_herb_map)  <- c(\"ID\", \"CV\")"
   ]
  },
  {
   "cell_type": "code",
   "execution_count": null,
   "metadata": {
    "collapsed": true
   },
   "outputs": [],
   "source": [
    "# load shapefile \n",
    "polyg<-readOGR(\".\",\"Grid_30m_c\")\n",
    "\n",
    "# import cv values into the shapefile\n",
    "poly_total <- merge(polyg, cv_total_map, by.x=\"ID\", by.y=\"ID\")\n",
    "poly_tree  <- merge(polyg, cv_tree_map, by.x=\"ID\", by.y=\"ID\")\n",
    "poly_shrub <- merge(polyg, cv_shrub_map, by.x=\"ID\", by.y=\"ID\")\n",
    "poly_herb  <- merge(polyg, cv_herb_map, by.x=\"ID\", by.y=\"ID\")\n",
    "\n",
    "# rasterize and print\n",
    "r <- raster(extent(poly_total))\n",
    "res(r)=30\n",
    "poly_total <- rasterize(poly_total, field=\"CV\", r)\n",
    "\n",
    "r <- raster(extent(poly_tree))\n",
    "res(r)=30\n",
    "poly_tree <- rasterize(poly_tree, field=\"CV\", r)\n",
    "\n",
    "r <- raster(extent(poly_shrub))\n",
    "res(r)=30\n",
    "poly_shrub <- rasterize(poly_shrub, field=\"CV\", r)\n",
    "\n",
    "r <- raster(extent(poly_herb))\n",
    "res(r)=30\n",
    "poly_herb <- rasterize(poly_herb, field=\"CV\", r)"
   ]
  },
  {
   "cell_type": "code",
   "execution_count": null,
   "metadata": {
    "collapsed": true
   },
   "outputs": [],
   "source": [
    "# Convert the predictors to raster format\n",
    "Pred_ras<- merge(polyg, map, by.x=\"ID\", by.y=\"ID\")\n",
    "r <- raster(extent(Pred_ras))\n",
    "res(r)=30\n",
    "Mean_DTM <- rasterize(Pred_ras, field=\"DTM_1_mean\", r)\n",
    "Mean_DCM <- rasterize(Pred_ras, field=\"one_mean\", r)\n",
    "STD_Slope <- rasterize(Pred_ras, field=\"slope_1m_std\", r)\n",
    "\n",
    "# Stack the predictors\n",
    "predictors<-stack(Mean_DTM, Mean_DCM, STD_Slope)  \n",
    "names(predictors) <- c(\"DTM_1_mean\", \"one_mean\", \"slope_1m_std\") # Use the same names than in the data\n",
    "plot(predictors)"
   ]
  },
  {
   "cell_type": "code",
   "execution_count": 10,
   "metadata": {
    "collapsed": true
   },
   "outputs": [],
   "source": [
    "# Apply the convexhull mask\n",
    "tr.dat <- list(x=dat$one_mean, y=dat$DTM_1_mean)  # two dimensions\n",
    "# MASK!, Remove or change the -2 factors in tr.dat$x and tr.dat$y to manage the mask area\n",
    "tri<-tri.mesh(tr.dat$x - 2, tr.dat$y - 2, duplicate=\"remove\") \n",
    "a <- !is.na(predictors[[\"one_mean\"]][])\n",
    "# Apply to the Total layer\n",
    "poly_total[a][!in.convex.hull(tri, x=predictors[[\"one_mean\"]][a], y=predictors[[\"DTM_1_mean\"]][a])] <- NA\n",
    "\n",
    "# Apply to the other layers\n",
    "poly_tree  <- mask(poly_tree, poly_total)\n",
    "poly_shrub <- mask(poly_shrub, poly_total)\n",
    "poly_herb  <- mask(poly_herb, poly_total)"
   ]
  },
  {
   "cell_type": "markdown",
   "metadata": {},
   "source": [
    "### Plot the CV maps. Figure 6 "
   ]
  },
  {
   "cell_type": "code",
   "execution_count": 11,
   "metadata": {
    "collapsed": false
   },
   "outputs": [
    {
     "data": {
      "image/png": "[encoded data removed]",
      "text/plain": [
       "Plot with title \"CV of herb richness\""
      ]
     },
     "metadata": {
      "image/svg+xml": {
       "isolated": true
      }
     },
     "output_type": "display_data"
    }
   ],
   "source": [
    "#pdf(file = \"Figures/fig 6 B&W.pdf\", width=8, height=8)\n",
    "# color version\n",
    "color <- colorRampPalette(c(\"blue\", \"cornflowerblue\", \"lightblue\", \"yellow\", \"darkgoldenrod1\", \"orange\", \"red\"))\n",
    "# B&W version\n",
    "#color <- colorRampPalette(c(\"gray100\", \"gray50\", \"gray10\"))\n",
    "\n",
    "par(mfrow=c(2,2), mai = c(0, 0, 0, 0))\n",
    "# Total\n",
    "par(mar=c(0, 0.3, 1, 0))\n",
    "plot(poly_total, main=\"CV of total richness\", col=color(40), zlim=c(0,25), axes=F, legend=F)\n",
    "north.arrow(xb=326500,yb=6113800,len=80,lab=\"North\")\n",
    "map.scale(xc=324500,yc=6110300,len=2000,units=\"km\", ndivs=2, scol = \"black\", sfcol =c(\"black\", \"white\"))\n",
    "# Tree\n",
    "par(mar=c(0, 0, 1, 0))\n",
    "plot(poly_tree, main=\"CV of tree richness\", col=color(40), zlim=c(0,25),axes=F, legend=F)\n",
    "north.arrow(xb=326500,yb=6113800,len=80,lab=\"North\")\n",
    "map.scale(xc=324500,yc=6110300,len=2000,units=\"km\", ndivs=2, scol = \"black\", sfcol =c(\"black\", \"white\"))\n",
    "# Shrub\n",
    "par(mar=c(0.3, 0.3, 1, 0))\n",
    "plot(poly_shrub,  main=\"CV of shrub richness\", col=color(40), zlim=c(0,25),axes=F, legend=F)\n",
    "north.arrow(xb=326500,yb=6113800,len=80,lab=\"North\")\n",
    "map.scale(xc=324500,yc=6110300,len=2000,units=\"km\", ndivs=2, scol = \"black\", sfcol =c(\"black\", \"white\"))\n",
    "box()\n",
    "# Herb\n",
    "par(mar=c(0.3, 0, 1, 0))\n",
    "plot(poly_herb, main=\"CV of herb richness\",  col=color(40), zlim=c(0,25), axes=F, legend=F)\n",
    "north.arrow(xb=326500,yb=6113800,len=80,lab=\"North\")\n",
    "map.scale(xc=324500,yc=6110300,len=2000,units=\"km\", ndivs=2, scol = \"black\", sfcol =c(\"black\", \"white\"))\n",
    "box()\n",
    "# add bar of values\n",
    "par(mfrow=c(1, 1), mar=c(0.3, 0, 0.8, 0), fig=c(0.5,1,0,1), new=F)\n",
    "plot(poly_herb, legend.only=TRUE, col=color(40), legend.shrink=1, legend.width=1.5, zlim=c(0, 25),\n",
    "     axis.args=list(at=seq(0, 25, 5), labels=seq(0, 25, 5), cex.axis=0.8))\n",
    "#dev.off()\n",
    "\n",
    "#save.image(\"CV_map.RData\")"
   ]
  },
  {
   "cell_type": "code",
   "execution_count": null,
   "metadata": {
    "collapsed": true
   },
   "outputs": [],
   "source": [
    "# save the data\n",
    "save.image(\"CV_map.RData\")"
   ]
  }
 ],
 "metadata": {
  "kernelspec": {
   "display_name": "R",
   "language": "R",
   "name": "ir"
  },
  "language_info": {
   "codemirror_mode": "r",
   "file_extension": ".r",
   "mimetype": "text/x-r-source",
   "name": "R",
   "pygments_lexer": "r",
   "version": "3.3.0"
  }
 },
 "nbformat": 4,
 "nbformat_minor": 0
}
