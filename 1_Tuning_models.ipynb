{
 "cells": [
  {
   "cell_type": "markdown",
   "metadata": {},
   "source": [
    "# Tuning the GLM and Random Forest models\n",
    "### authors: Javier Lopatin & Klara Dolos\n",
    "### mail: javierlopatin@gmail.com; klara.dolos@kit.de\n",
    "### Manuscript: Comparing Generalized Linear Models and random forest to model vascular plant species richness using LiDAR data in a natural forest in central Chile\n",
    "### last changes: 12/11/2015\n",
    "\n",
    "## ==============================================================\n",
    "\n",
    "### load the require packages"
   ]
  },
  {
   "cell_type": "code",
   "execution_count": 1,
   "metadata": {
    "collapsed": false
   },
   "outputs": [
    {
     "name": "stderr",
     "output_type": "stream",
     "text": [
      "Loading required package: lme4\n",
      "Loading required package: Matrix\n",
      "Loading required package: hier.part\n",
      "Loading required package: gtools\n",
      "Loading required package: splines\n",
      "Loading required package: MASS\n",
      "Loading required package: caret\n",
      "Loading required package: lattice\n",
      "Loading required package: ggplot2\n"
     ]
    },
    {
     "data": {
      "text/html": [
       "<ol>\n",
       "\t<li>TRUE</li>\n",
       "\t<li>TRUE</li>\n",
       "\t<li>TRUE</li>\n",
       "\t<li>TRUE</li>\n",
       "\t<li>TRUE</li>\n",
       "</ol>\n"
      ],
      "text/latex": [
       "\\begin{enumerate}\n",
       "\\item TRUE\n",
       "\\item TRUE\n",
       "\\item TRUE\n",
       "\\item TRUE\n",
       "\\item TRUE\n",
       "\\end{enumerate}\n"
      ],
      "text/markdown": [
       "1. TRUE\n",
       "2. TRUE\n",
       "3. TRUE\n",
       "4. TRUE\n",
       "5. TRUE\n",
       "\n",
       "\n"
      ],
      "text/plain": [
       "[[1]]\n",
       "[1] TRUE\n",
       "\n",
       "[[2]]\n",
       "[1] TRUE\n",
       "\n",
       "[[3]]\n",
       "[1] TRUE\n",
       "\n",
       "[[4]]\n",
       "[1] TRUE\n",
       "\n",
       "[[5]]\n",
       "[1] TRUE\n"
      ]
     },
     "metadata": {},
     "output_type": "display_data"
    }
   ],
   "source": [
    "pkgs<-c(\"lme4\", \"hier.part\", \"splines\", \"MASS\", \"caret\")\n",
    "lapply(pkgs, require, character.only=T)"
   ]
  },
  {
   "cell_type": "code",
   "execution_count": 2,
   "metadata": {
    "collapsed": true
   },
   "outputs": [],
   "source": [
    "# set working directory\n",
    "setwd(\"~/Dropbox/Publications/SpeciesRichness-GLMvsRF-LiDAR\")"
   ]
  },
  {
   "cell_type": "code",
   "execution_count": 3,
   "metadata": {
    "collapsed": false
   },
   "outputs": [
    {
     "data": {
      "text/html": [
       "<table>\n",
       "<thead><tr><th></th><th scope=col>ID</th><th scope=col>Total_richness</th><th scope=col>Tree_richness</th><th scope=col>Shrub_richness</th><th scope=col>Herb_richness</th><th scope=col>DTM_1_mean</th><th scope=col>slope_1m_std</th><th scope=col>norm_H_1_mean</th><th scope=col>Asp_1m</th><th scope=col>TWI_1m</th><th scope=col>one_mean</th><th scope=col>one_std</th><th scope=col>homogeneity_1</th><th scope=col>contrast_1</th><th scope=col>dissimilarity_1</th><th scope=col>entropy_1</th><th scope=col>second_moment_1</th></tr></thead>\n",
       "<tbody>\n",
       "\t<tr><th scope=row>1</th><td>   4.0000000</td><td>  13.0000000</td><td>   5.0000000</td><td>  11.0000000</td><td>   3.0000000</td><td>1291.8800000</td><td>   0.1181934</td><td>   0.3762218</td><td> 127.2040242</td><td>   2.9605692</td><td>  12.5390740</td><td>   5.8025497</td><td>   0.2636767</td><td>  19.9039990</td><td>   3.4027615</td><td>   2.1325946</td><td>   0.1218213</td></tr>\n",
       "\t<tr><th scope=row>2</th><td>  6.0000000</td><td> 21.0000000</td><td> 12.0000000</td><td> 12.0000000</td><td> 11.0000000</td><td>795.0400000</td><td>  0.1009663</td><td>  0.3460687</td><td>100.1712222</td><td>  3.2702673</td><td>  5.8868185</td><td>  3.6844673</td><td>  0.4549061</td><td>  5.7032198</td><td>  1.7077065</td><td>  1.9449896</td><td>  0.1592035</td></tr>\n",
       "\t<tr><th scope=row>3</th><td> 10.00000000</td><td> 22.00000000</td><td> 11.00000000</td><td> 19.00000000</td><td> 11.00000000</td><td>757.69100000</td><td>  0.07825447</td><td>  0.48974720</td><td>128.00192650</td><td>  3.38179861</td><td>  5.47073219</td><td>  3.24792624</td><td>  0.50195270</td><td>  4.41309524</td><td>  1.43743386</td><td>  1.84741100</td><td>  0.17660200</td></tr>\n",
       "\t<tr><th scope=row>4</th><td> 11.00000000</td><td> 13.00000000</td><td>  6.00000000</td><td> 12.00000000</td><td>  8.00000000</td><td>784.47600000</td><td>  0.07862194</td><td>  0.54234213</td><td> 93.73140165</td><td>  3.29147350</td><td>  7.08152408</td><td>  3.61667408</td><td>  0.39324375</td><td>  7.32147975</td><td>  2.01810603</td><td>  2.02521551</td><td>  0.14182334</td></tr>\n",
       "\t<tr><th scope=row>5</th><td> 12.0000000</td><td> 20.0000000</td><td>  9.0000000</td><td> 15.0000000</td><td>  7.0000000</td><td>843.9690000</td><td>  0.1180504</td><td>  0.6274052</td><td>110.6157881</td><td>  2.4935108</td><td>  6.1885475</td><td>  3.8682360</td><td>  0.4127205</td><td>  7.5862967</td><td>  2.0195389</td><td>  1.9475119</td><td>  0.1679910</td></tr>\n",
       "\t<tr><th scope=row>6</th><td>  14.0000000</td><td>  19.0000000</td><td>   7.0000000</td><td>   6.0000000</td><td>  12.0000000</td><td>1320.6100000</td><td>   0.1119899</td><td>   0.4048204</td><td> 123.2983173</td><td>   2.7980531</td><td>   9.2470568</td><td>   4.4228580</td><td>   0.3197866</td><td>  12.7336413</td><td>   2.6930973</td><td>   2.0921149</td><td>   0.1285889</td></tr>\n",
       "</tbody>\n",
       "</table>\n"
      ],
      "text/latex": [
       "\\begin{tabular}{r|lllllllllllllllll}\n",
       "  & ID & Total\\_richness & Tree\\_richness & Shrub\\_richness & Herb\\_richness & DTM\\_1\\_mean & slope\\_1m\\_std & norm\\_H\\_1\\_mean & Asp\\_1m & TWI\\_1m & one\\_mean & one\\_std & homogeneity\\_1 & contrast\\_1 & dissimilarity\\_1 & entropy\\_1 & second\\_moment\\_1\\\\\n",
       "\\hline\n",
       "\t1 &    4.0000000 &   13.0000000 &    5.0000000 &   11.0000000 &    3.0000000 & 1291.8800000 &    0.1181934 &    0.3762218 &  127.2040242 &    2.9605692 &   12.5390740 &    5.8025497 &    0.2636767 &   19.9039990 &    3.4027615 &    2.1325946 &    0.1218213\\\\\n",
       "\t2 &   6.0000000 &  21.0000000 &  12.0000000 &  12.0000000 &  11.0000000 & 795.0400000 &   0.1009663 &   0.3460687 & 100.1712222 &   3.2702673 &   5.8868185 &   3.6844673 &   0.4549061 &   5.7032198 &   1.7077065 &   1.9449896 &   0.1592035\\\\\n",
       "\t3 &  10.00000000 &  22.00000000 &  11.00000000 &  19.00000000 &  11.00000000 & 757.69100000 &   0.07825447 &   0.48974720 & 128.00192650 &   3.38179861 &   5.47073219 &   3.24792624 &   0.50195270 &   4.41309524 &   1.43743386 &   1.84741100 &   0.17660200\\\\\n",
       "\t4 &  11.00000000 &  13.00000000 &   6.00000000 &  12.00000000 &   8.00000000 & 784.47600000 &   0.07862194 &   0.54234213 &  93.73140165 &   3.29147350 &   7.08152408 &   3.61667408 &   0.39324375 &   7.32147975 &   2.01810603 &   2.02521551 &   0.14182334\\\\\n",
       "\t5 &  12.0000000 &  20.0000000 &   9.0000000 &  15.0000000 &   7.0000000 & 843.9690000 &   0.1180504 &   0.6274052 & 110.6157881 &   2.4935108 &   6.1885475 &   3.8682360 &   0.4127205 &   7.5862967 &   2.0195389 &   1.9475119 &   0.1679910\\\\\n",
       "\t6 &   14.0000000 &   19.0000000 &    7.0000000 &    6.0000000 &   12.0000000 & 1320.6100000 &    0.1119899 &    0.4048204 &  123.2983173 &    2.7980531 &    9.2470568 &    4.4228580 &    0.3197866 &   12.7336413 &    2.6930973 &    2.0921149 &    0.1285889\\\\\n",
       "\\end{tabular}\n"
      ],
      "text/plain": [
       "  ID Total_richness Tree_richness Shrub_richness Herb_richness DTM_1_mean\n",
       "1  4             13             5             11             3   1291.880\n",
       "2  6             21            12             12            11    795.040\n",
       "3 10             22            11             19            11    757.691\n",
       "4 11             13             6             12             8    784.476\n",
       "5 12             20             9             15             7    843.969\n",
       "6 14             19             7              6            12   1320.610\n",
       "  slope_1m_std norm_H_1_mean   Asp_1m   TWI_1m  one_mean  one_std homogeneity_1\n",
       "1   0.11819340     0.3762218 127.2040 2.960569 12.539074 5.802550     0.2636767\n",
       "2   0.10096628     0.3460687 100.1712 3.270267  5.886818 3.684467     0.4549061\n",
       "3   0.07825447     0.4897472 128.0019 3.381799  5.470732 3.247926     0.5019527\n",
       "4   0.07862194     0.5423421  93.7314 3.291474  7.081524 3.616674     0.3932438\n",
       "5   0.11805044     0.6274052 110.6158 2.493511  6.188548 3.868236     0.4127205\n",
       "6   0.11198989     0.4048204 123.2983 2.798053  9.247057 4.422858     0.3197866\n",
       "  contrast_1 dissimilarity_1 entropy_1 second_moment_1\n",
       "1  19.903999        3.402761  2.132595       0.1218213\n",
       "2   5.703220        1.707707  1.944990       0.1592035\n",
       "3   4.413095        1.437434  1.847411       0.1766020\n",
       "4   7.321480        2.018106  2.025216       0.1418233\n",
       "5   7.586297        2.019539  1.947512       0.1679910\n",
       "6  12.733641        2.693097  2.092115       0.1285889"
      ]
     },
     "metadata": {},
     "output_type": "display_data"
    }
   ],
   "source": [
    "# Load data\n",
    "dat <- read.table(\"Richness_model.csv\", header=T, sep=\",\", dec=\".\")   \n",
    "head(dat)"
   ]
  },
  {
   "cell_type": "markdown",
   "metadata": {},
   "source": [
    "## Tuning the Random Forest models using the caret package"
   ]
  },
  {
   "cell_type": "code",
   "execution_count": 4,
   "metadata": {
    "collapsed": false
   },
   "outputs": [
    {
     "name": "stderr",
     "output_type": "stream",
     "text": [
      "Loading required package: randomForest\n",
      "randomForest 4.6-12\n",
      "Type rfNews() to see new features/changes/bug fixes.\n",
      "\n",
      "Attaching package: 'randomForest'\n",
      "\n",
      "The following object is masked from 'package:ggplot2':\n",
      "\n",
      "    margin\n",
      "\n"
     ]
    },
    {
     "data": {
      "text/plain": [
       "Random Forest \n",
       "\n",
       "78 samples\n",
       "12 predictors\n",
       "\n",
       "No pre-processing\n",
       "Resampling: Cross-Validated (5 fold, repeated 5 times) \n",
       "Summary of sample sizes: 62, 63, 61, 64, 62, 63, ... \n",
       "Resampling results across tuning parameters:\n",
       "\n",
       "  mtry  RMSE      Rsquared \n",
       "   2    4.436534  0.5895293\n",
       "   7    4.268417  0.6164966\n",
       "  12    4.309887  0.6066116\n",
       "\n",
       "RMSE was used to select the optimal model using  the smallest value.\n",
       "The final value used for the model was mtry = 7. "
      ]
     },
     "metadata": {},
     "output_type": "display_data"
    },
    {
     "data": {
      "text/plain": [
       "Random Forest \n",
       "\n",
       "78 samples\n",
       "12 predictors\n",
       "\n",
       "No pre-processing\n",
       "Resampling: Cross-Validated (5 fold, repeated 5 times) \n",
       "Summary of sample sizes: 64, 63, 61, 62, 62, 63, ... \n",
       "Resampling results across tuning parameters:\n",
       "\n",
       "  mtry  RMSE      Rsquared \n",
       "   2    2.772431  0.3673090\n",
       "   7    2.709192  0.3906888\n",
       "  12    2.699250  0.3951192\n",
       "\n",
       "RMSE was used to select the optimal model using  the smallest value.\n",
       "The final value used for the model was mtry = 12. "
      ]
     },
     "metadata": {},
     "output_type": "display_data"
    },
    {
     "data": {
      "text/plain": [
       "Random Forest \n",
       "\n",
       "78 samples\n",
       "12 predictors\n",
       "\n",
       "No pre-processing\n",
       "Resampling: Cross-Validated (5 fold, repeated 5 times) \n",
       "Summary of sample sizes: 63, 63, 63, 61, 62, 63, ... \n",
       "Resampling results across tuning parameters:\n",
       "\n",
       "  mtry  RMSE      Rsquared \n",
       "   2    3.300551  0.4609376\n",
       "   7    3.258012  0.4765833\n",
       "  12    3.263374  0.4746340\n",
       "\n",
       "RMSE was used to select the optimal model using  the smallest value.\n",
       "The final value used for the model was mtry = 7. "
      ]
     },
     "metadata": {},
     "output_type": "display_data"
    },
    {
     "data": {
      "text/plain": [
       "Random Forest \n",
       "\n",
       "78 samples\n",
       "12 predictors\n",
       "\n",
       "No pre-processing\n",
       "Resampling: Cross-Validated (5 fold, repeated 5 times) \n",
       "Summary of sample sizes: 63, 63, 62, 62, 62, 62, ... \n",
       "Resampling results across tuning parameters:\n",
       "\n",
       "  mtry  RMSE      Rsquared \n",
       "   2    3.059092  0.4991700\n",
       "   7    2.955059  0.5279437\n",
       "  12    2.969071  0.5239814\n",
       "\n",
       "RMSE was used to select the optimal model using  the smallest value.\n",
       "The final value used for the model was mtry = 7. "
      ]
     },
     "metadata": {},
     "output_type": "display_data"
    }
   ],
   "source": [
    "# select the predictors\n",
    "predictors <- dat[,6:17]\n",
    "\n",
    "# define parameter tuning method\n",
    "fitControl <- trainControl(method = \"repeatedcv\", number = 5, repeats = 5, returnResamp =\"all\")\n",
    "\n",
    "# tuning for total richness\n",
    "tuning_total <- train(predictors, dat$Total_richness, method = \"rf\", trControl = fitControl)\n",
    "tuning_total\n",
    "\n",
    "# tuning for tree richness\n",
    "tuning_tree <- train(predictors, dat$Tree_richness, method = \"rf\", trControl = fitControl)\n",
    "tuning_tree\n",
    "\n",
    "# tuning for shrub richness\n",
    "tuning_shrub <- train(predictors, dat$Shrub_richness, method = \"rf\", trControl = fitControl)\n",
    "tuning_shrub\n",
    "\n",
    "# tuning for herb richness\n",
    "tuning_herb <- train(predictors, dat$Herb_richness, method = \"rf\", trControl = fitControl)\n",
    "tuning_herb"
   ]
  },
  {
   "cell_type": "markdown",
   "metadata": {},
   "source": [
    "## Tuning the GLMs\n",
    "### Check which variable have a more linear relationship with the Total richness. In our case we choose the canopy height (one_mean)"
   ]
  },
  {
   "cell_type": "code",
   "execution_count": 55,
   "metadata": {
    "collapsed": false
   },
   "outputs": [
    {
     "data": {
      "text/html": [
       "<table>\n",
       "<thead><tr><th></th><th scope=col>ID</th><th scope=col>Total_richness</th><th scope=col>Tree_richness</th><th scope=col>Shrub_richness</th><th scope=col>Herb_richness</th><th scope=col>DTM_1_mean</th><th scope=col>slope_1m_std</th><th scope=col>norm_H_1_mean</th><th scope=col>Asp_1m</th><th scope=col>TWI_1m</th><th scope=col>one_mean</th><th scope=col>one_std</th><th scope=col>homogeneity_1</th><th scope=col>contrast_1</th><th scope=col>dissimilarity_1</th><th scope=col>entropy_1</th><th scope=col>second_moment_1</th></tr></thead>\n",
       "<tbody>\n",
       "\t<tr><th scope=row>ID</th><td> 1.00</td><td>-0.08</td><td>-0.14</td><td>-0.08</td><td> 0.03</td><td> 0.10</td><td> 0.02</td><td> 0.02</td><td> 0.11</td><td> 0.02</td><td> 0.06</td><td> 0.08</td><td>-0.03</td><td> 0.00</td><td> 0.01</td><td> 0.14</td><td>-0.16</td></tr>\n",
       "\t<tr><th scope=row>Total_richness</th><td>-0.08</td><td> 1.00</td><td> 0.73</td><td> 0.87</td><td> 0.87</td><td>-0.66</td><td> 0.53</td><td>-0.09</td><td>-0.08</td><td>-0.42</td><td>-0.69</td><td>-0.43</td><td> 0.47</td><td>-0.45</td><td>-0.48</td><td>-0.52</td><td> 0.51</td></tr>\n",
       "\t<tr><th scope=row>Tree_richness</th><td>-0.14</td><td> 0.73</td><td> 1.00</td><td> 0.65</td><td> 0.51</td><td>-0.69</td><td> 0.35</td><td>-0.10</td><td>-0.04</td><td>-0.25</td><td>-0.51</td><td>-0.38</td><td> 0.46</td><td>-0.42</td><td>-0.45</td><td>-0.50</td><td> 0.48</td></tr>\n",
       "\t<tr><th scope=row>Shrub_richness</th><td>-0.08</td><td> 0.87</td><td> 0.65</td><td> 1.00</td><td> 0.67</td><td>-0.62</td><td> 0.37</td><td>-0.03</td><td>-0.14</td><td>-0.35</td><td>-0.63</td><td>-0.37</td><td> 0.46</td><td>-0.38</td><td>-0.43</td><td>-0.52</td><td> 0.51</td></tr>\n",
       "\t<tr><th scope=row>Herb_richness</th><td> 0.03</td><td> 0.87</td><td> 0.51</td><td> 0.67</td><td> 1.00</td><td>-0.57</td><td> 0.57</td><td>-0.13</td><td>-0.12</td><td>-0.46</td><td>-0.61</td><td>-0.34</td><td> 0.33</td><td>-0.35</td><td>-0.36</td><td>-0.36</td><td> 0.33</td></tr>\n",
       "\t<tr><th scope=row>DTM_1_mean</th><td> 0.10</td><td>-0.66</td><td>-0.69</td><td>-0.62</td><td>-0.57</td><td> 1.00</td><td>-0.24</td><td> 0.01</td><td> 0.10</td><td> 0.14</td><td> 0.51</td><td> 0.48</td><td>-0.63</td><td> 0.56</td><td> 0.61</td><td> 0.55</td><td>-0.49</td></tr>\n",
       "\t<tr><th scope=row>slope_1m_std</th><td> 0.02</td><td> 0.53</td><td> 0.35</td><td> 0.37</td><td> 0.57</td><td>-0.24</td><td> 1.00</td><td>-0.18</td><td> 0.04</td><td>-0.69</td><td>-0.44</td><td>-0.03</td><td> 0.17</td><td>-0.10</td><td>-0.12</td><td>-0.33</td><td> 0.39</td></tr>\n",
       "\t<tr><th scope=row>norm_H_1_mean</th><td> 0.02</td><td>-0.09</td><td>-0.10</td><td>-0.03</td><td>-0.13</td><td> 0.01</td><td>-0.18</td><td> 1.00</td><td>-0.04</td><td>-0.24</td><td> 0.05</td><td>-0.07</td><td>-0.16</td><td> 0.03</td><td> 0.10</td><td> 0.21</td><td>-0.21</td></tr>\n",
       "\t<tr><th scope=row>Asp_1m</th><td> 0.11</td><td>-0.08</td><td>-0.04</td><td>-0.14</td><td>-0.12</td><td> 0.10</td><td> 0.04</td><td>-0.04</td><td> 1.00</td><td>-0.06</td><td>-0.18</td><td>-0.17</td><td> 0.11</td><td>-0.17</td><td>-0.15</td><td>-0.09</td><td> 0.09</td></tr>\n",
       "\t<tr><th scope=row>TWI_1m</th><td> 0.02</td><td>-0.42</td><td>-0.25</td><td>-0.35</td><td>-0.46</td><td> 0.14</td><td>-0.69</td><td>-0.24</td><td>-0.06</td><td> 1.00</td><td> 0.39</td><td> 0.09</td><td> 0.00</td><td> 0.04</td><td> 0.02</td><td> 0.10</td><td>-0.15</td></tr>\n",
       "\t<tr><th scope=row>one_mean</th><td> 0.06</td><td>-0.69</td><td>-0.51</td><td>-0.63</td><td>-0.61</td><td> 0.51</td><td>-0.44</td><td> 0.05</td><td>-0.18</td><td> 0.39</td><td> 1.00</td><td> 0.69</td><td>-0.66</td><td> 0.73</td><td> 0.72</td><td> 0.67</td><td>-0.63</td></tr>\n",
       "\t<tr><th scope=row>one_std</th><td> 0.08</td><td>-0.43</td><td>-0.38</td><td>-0.37</td><td>-0.34</td><td> 0.48</td><td>-0.03</td><td>-0.07</td><td>-0.17</td><td> 0.09</td><td> 0.69</td><td> 1.00</td><td>-0.69</td><td> 0.88</td><td> 0.85</td><td> 0.49</td><td>-0.39</td></tr>\n",
       "\t<tr><th scope=row>homogeneity_1</th><td>-0.03</td><td> 0.47</td><td> 0.46</td><td> 0.46</td><td> 0.33</td><td>-0.63</td><td> 0.17</td><td>-0.16</td><td> 0.11</td><td> 0.00</td><td>-0.66</td><td>-0.69</td><td> 1.00</td><td>-0.84</td><td>-0.93</td><td>-0.90</td><td> 0.81</td></tr>\n",
       "\t<tr><th scope=row>contrast_1</th><td> 0.00</td><td>-0.45</td><td>-0.42</td><td>-0.38</td><td>-0.35</td><td> 0.56</td><td>-0.10</td><td> 0.03</td><td>-0.17</td><td> 0.04</td><td> 0.73</td><td> 0.88</td><td>-0.84</td><td> 1.00</td><td> 0.98</td><td> 0.64</td><td>-0.53</td></tr>\n",
       "\t<tr><th scope=row>dissimilarity_1</th><td> 0.01</td><td>-0.48</td><td>-0.45</td><td>-0.43</td><td>-0.36</td><td> 0.61</td><td>-0.12</td><td> 0.10</td><td>-0.15</td><td> 0.02</td><td> 0.72</td><td> 0.85</td><td>-0.93</td><td> 0.98</td><td> 1.00</td><td> 0.75</td><td>-0.64</td></tr>\n",
       "\t<tr><th scope=row>entropy_1</th><td> 0.14</td><td>-0.52</td><td>-0.50</td><td>-0.52</td><td>-0.36</td><td> 0.55</td><td>-0.33</td><td> 0.21</td><td>-0.09</td><td> 0.10</td><td> 0.67</td><td> 0.49</td><td>-0.90</td><td> 0.64</td><td> 0.75</td><td> 1.00</td><td>-0.98</td></tr>\n",
       "\t<tr><th scope=row>second_moment_1</th><td>-0.16</td><td> 0.51</td><td> 0.48</td><td> 0.51</td><td> 0.33</td><td>-0.49</td><td> 0.39</td><td>-0.21</td><td> 0.09</td><td>-0.15</td><td>-0.63</td><td>-0.39</td><td> 0.81</td><td>-0.53</td><td>-0.64</td><td>-0.98</td><td> 1.00</td></tr>\n",
       "</tbody>\n",
       "</table>\n"
      ],
      "text/latex": [
       "\\begin{tabular}{r|lllllllllllllllll}\n",
       "  & ID & Total\\_richness & Tree\\_richness & Shrub\\_richness & Herb\\_richness & DTM\\_1\\_mean & slope\\_1m\\_std & norm\\_H\\_1\\_mean & Asp\\_1m & TWI\\_1m & one\\_mean & one\\_std & homogeneity\\_1 & contrast\\_1 & dissimilarity\\_1 & entropy\\_1 & second\\_moment\\_1\\\\\n",
       "\\hline\n",
       "\tID &  1.00 & -0.08 & -0.14 & -0.08 &  0.03 &  0.10 &  0.02 &  0.02 &  0.11 &  0.02 &  0.06 &  0.08 & -0.03 &  0.00 &  0.01 &  0.14 & -0.16\\\\\n",
       "\tTotal\\_richness & -0.08 &  1.00 &  0.73 &  0.87 &  0.87 & -0.66 &  0.53 & -0.09 & -0.08 & -0.42 & -0.69 & -0.43 &  0.47 & -0.45 & -0.48 & -0.52 &  0.51\\\\\n",
       "\tTree\\_richness & -0.14 &  0.73 &  1.00 &  0.65 &  0.51 & -0.69 &  0.35 & -0.10 & -0.04 & -0.25 & -0.51 & -0.38 &  0.46 & -0.42 & -0.45 & -0.50 &  0.48\\\\\n",
       "\tShrub\\_richness & -0.08 &  0.87 &  0.65 &  1.00 &  0.67 & -0.62 &  0.37 & -0.03 & -0.14 & -0.35 & -0.63 & -0.37 &  0.46 & -0.38 & -0.43 & -0.52 &  0.51\\\\\n",
       "\tHerb\\_richness &  0.03 &  0.87 &  0.51 &  0.67 &  1.00 & -0.57 &  0.57 & -0.13 & -0.12 & -0.46 & -0.61 & -0.34 &  0.33 & -0.35 & -0.36 & -0.36 &  0.33\\\\\n",
       "\tDTM\\_1\\_mean &  0.10 & -0.66 & -0.69 & -0.62 & -0.57 &  1.00 & -0.24 &  0.01 &  0.10 &  0.14 &  0.51 &  0.48 & -0.63 &  0.56 &  0.61 &  0.55 & -0.49\\\\\n",
       "\tslope\\_1m\\_std &  0.02 &  0.53 &  0.35 &  0.37 &  0.57 & -0.24 &  1.00 & -0.18 &  0.04 & -0.69 & -0.44 & -0.03 &  0.17 & -0.10 & -0.12 & -0.33 &  0.39\\\\\n",
       "\tnorm\\_H\\_1\\_mean &  0.02 & -0.09 & -0.10 & -0.03 & -0.13 &  0.01 & -0.18 &  1.00 & -0.04 & -0.24 &  0.05 & -0.07 & -0.16 &  0.03 &  0.10 &  0.21 & -0.21\\\\\n",
       "\tAsp\\_1m &  0.11 & -0.08 & -0.04 & -0.14 & -0.12 &  0.10 &  0.04 & -0.04 &  1.00 & -0.06 & -0.18 & -0.17 &  0.11 & -0.17 & -0.15 & -0.09 &  0.09\\\\\n",
       "\tTWI\\_1m &  0.02 & -0.42 & -0.25 & -0.35 & -0.46 &  0.14 & -0.69 & -0.24 & -0.06 &  1.00 &  0.39 &  0.09 &  0.00 &  0.04 &  0.02 &  0.10 & -0.15\\\\\n",
       "\tone\\_mean &  0.06 & -0.69 & -0.51 & -0.63 & -0.61 &  0.51 & -0.44 &  0.05 & -0.18 &  0.39 &  1.00 &  0.69 & -0.66 &  0.73 &  0.72 &  0.67 & -0.63\\\\\n",
       "\tone\\_std &  0.08 & -0.43 & -0.38 & -0.37 & -0.34 &  0.48 & -0.03 & -0.07 & -0.17 &  0.09 &  0.69 &  1.00 & -0.69 &  0.88 &  0.85 &  0.49 & -0.39\\\\\n",
       "\thomogeneity\\_1 & -0.03 &  0.47 &  0.46 &  0.46 &  0.33 & -0.63 &  0.17 & -0.16 &  0.11 &  0.00 & -0.66 & -0.69 &  1.00 & -0.84 & -0.93 & -0.90 &  0.81\\\\\n",
       "\tcontrast\\_1 &  0.00 & -0.45 & -0.42 & -0.38 & -0.35 &  0.56 & -0.10 &  0.03 & -0.17 &  0.04 &  0.73 &  0.88 & -0.84 &  1.00 &  0.98 &  0.64 & -0.53\\\\\n",
       "\tdissimilarity\\_1 &  0.01 & -0.48 & -0.45 & -0.43 & -0.36 &  0.61 & -0.12 &  0.10 & -0.15 &  0.02 &  0.72 &  0.85 & -0.93 &  0.98 &  1.00 &  0.75 & -0.64\\\\\n",
       "\tentropy\\_1 &  0.14 & -0.52 & -0.50 & -0.52 & -0.36 &  0.55 & -0.33 &  0.21 & -0.09 &  0.10 &  0.67 &  0.49 & -0.90 &  0.64 &  0.75 &  1.00 & -0.98\\\\\n",
       "\tsecond\\_moment\\_1 & -0.16 &  0.51 &  0.48 &  0.51 &  0.33 & -0.49 &  0.39 & -0.21 &  0.09 & -0.15 & -0.63 & -0.39 &  0.81 & -0.53 & -0.64 & -0.98 &  1.00\\\\\n",
       "\\end{tabular}\n"
      ],
      "text/markdown": [
       "1. 1\n",
       "2. -0.08\n",
       "3. -0.14\n",
       "4. -0.08\n",
       "5. 0.03\n",
       "6. 0.1\n",
       "7. 0.02\n",
       "8. 0.02\n",
       "9. 0.11\n",
       "10. 0.02\n",
       "11. 0.06\n",
       "12. 0.08\n",
       "13. -0.03\n",
       "14. 0\n",
       "15. 0.01\n",
       "16. 0.14\n",
       "17. -0.16\n",
       "18. -0.08\n",
       "19. 1\n",
       "20. 0.73\n",
       "21. 0.87\n",
       "22. 0.87\n",
       "23. -0.66\n",
       "24. 0.53\n",
       "25. -0.09\n",
       "26. -0.08\n",
       "27. -0.42\n",
       "28. -0.69\n",
       "29. -0.43\n",
       "30. 0.47\n",
       "31. -0.45\n",
       "32. -0.48\n",
       "33. -0.52\n",
       "34. 0.51\n",
       "35. -0.14\n",
       "36. 0.73\n",
       "37. 1\n",
       "38. 0.65\n",
       "39. 0.51\n",
       "40. -0.69\n",
       "41. 0.35\n",
       "42. -0.1\n",
       "43. -0.04\n",
       "44. -0.25\n",
       "45. -0.51\n",
       "46. -0.38\n",
       "47. 0.46\n",
       "48. -0.42\n",
       "49. -0.45\n",
       "50. -0.5\n",
       "51. 0.48\n",
       "52. -0.08\n",
       "53. 0.87\n",
       "54. 0.65\n",
       "55. 1\n",
       "56. 0.67\n",
       "57. -0.62\n",
       "58. 0.37\n",
       "59. -0.03\n",
       "60. -0.14\n",
       "61. -0.35\n",
       "62. -0.63\n",
       "63. -0.37\n",
       "64. 0.46\n",
       "65. -0.38\n",
       "66. -0.43\n",
       "67. -0.52\n",
       "68. 0.51\n",
       "69. 0.03\n",
       "70. 0.87\n",
       "71. 0.51\n",
       "72. 0.67\n",
       "73. 1\n",
       "74. -0.57\n",
       "75. 0.57\n",
       "76. -0.13\n",
       "77. -0.12\n",
       "78. -0.46\n",
       "79. -0.61\n",
       "80. -0.34\n",
       "81. 0.33\n",
       "82. -0.35\n",
       "83. -0.36\n",
       "84. -0.36\n",
       "85. 0.33\n",
       "86. 0.1\n",
       "87. -0.66\n",
       "88. -0.69\n",
       "89. -0.62\n",
       "90. -0.57\n",
       "91. 1\n",
       "92. -0.24\n",
       "93. 0.01\n",
       "94. 0.1\n",
       "95. 0.14\n",
       "96. 0.51\n",
       "97. 0.48\n",
       "98. -0.63\n",
       "99. 0.56\n",
       "100. 0.61\n",
       "101. 0.55\n",
       "102. -0.49\n",
       "103. 0.02\n",
       "104. 0.53\n",
       "105. 0.35\n",
       "106. 0.37\n",
       "107. 0.57\n",
       "108. -0.24\n",
       "109. 1\n",
       "110. -0.18\n",
       "111. 0.04\n",
       "112. -0.69\n",
       "113. -0.44\n",
       "114. -0.03\n",
       "115. 0.17\n",
       "116. -0.1\n",
       "117. -0.12\n",
       "118. -0.33\n",
       "119. 0.39\n",
       "120. 0.02\n",
       "121. -0.09\n",
       "122. -0.1\n",
       "123. -0.03\n",
       "124. -0.13\n",
       "125. 0.01\n",
       "126. -0.18\n",
       "127. 1\n",
       "128. -0.04\n",
       "129. -0.24\n",
       "130. 0.05\n",
       "131. -0.07\n",
       "132. -0.16\n",
       "133. 0.03\n",
       "134. 0.1\n",
       "135. 0.21\n",
       "136. -0.21\n",
       "137. 0.11\n",
       "138. -0.08\n",
       "139. -0.04\n",
       "140. -0.14\n",
       "141. -0.12\n",
       "142. 0.1\n",
       "143. 0.04\n",
       "144. -0.04\n",
       "145. 1\n",
       "146. -0.06\n",
       "147. -0.18\n",
       "148. -0.17\n",
       "149. 0.11\n",
       "150. -0.17\n",
       "151. -0.15\n",
       "152. -0.09\n",
       "153. 0.09\n",
       "154. 0.02\n",
       "155. -0.42\n",
       "156. -0.25\n",
       "157. -0.35\n",
       "158. -0.46\n",
       "159. 0.14\n",
       "160. -0.69\n",
       "161. -0.24\n",
       "162. -0.06\n",
       "163. 1\n",
       "164. 0.39\n",
       "165. 0.09\n",
       "166. 0\n",
       "167. 0.04\n",
       "168. 0.02\n",
       "169. 0.1\n",
       "170. -0.15\n",
       "171. 0.06\n",
       "172. -0.69\n",
       "173. -0.51\n",
       "174. -0.63\n",
       "175. -0.61\n",
       "176. 0.51\n",
       "177. -0.44\n",
       "178. 0.05\n",
       "179. -0.18\n",
       "180. 0.39\n",
       "181. 1\n",
       "182. 0.69\n",
       "183. -0.66\n",
       "184. 0.73\n",
       "185. 0.72\n",
       "186. 0.67\n",
       "187. -0.63\n",
       "188. 0.08\n",
       "189. -0.43\n",
       "190. -0.38\n",
       "191. -0.37\n",
       "192. -0.34\n",
       "193. 0.48\n",
       "194. -0.03\n",
       "195. -0.07\n",
       "196. -0.17\n",
       "197. 0.09\n",
       "198. 0.69\n",
       "199. 1\n",
       "200. -0.69\n",
       "201. 0.88\n",
       "202. 0.85\n",
       "203. 0.49\n",
       "204. -0.39\n",
       "205. -0.03\n",
       "206. 0.47\n",
       "207. 0.46\n",
       "208. 0.46\n",
       "209. 0.33\n",
       "210. -0.63\n",
       "211. 0.17\n",
       "212. -0.16\n",
       "213. 0.11\n",
       "214. 0\n",
       "215. -0.66\n",
       "216. -0.69\n",
       "217. 1\n",
       "218. -0.84\n",
       "219. -0.93\n",
       "220. -0.9\n",
       "221. 0.81\n",
       "222. 0\n",
       "223. -0.45\n",
       "224. -0.42\n",
       "225. -0.38\n",
       "226. -0.35\n",
       "227. 0.56\n",
       "228. -0.1\n",
       "229. 0.03\n",
       "230. -0.17\n",
       "231. 0.04\n",
       "232. 0.73\n",
       "233. 0.88\n",
       "234. -0.84\n",
       "235. 1\n",
       "236. 0.98\n",
       "237. 0.64\n",
       "238. -0.53\n",
       "239. 0.01\n",
       "240. -0.48\n",
       "241. -0.45\n",
       "242. -0.43\n",
       "243. -0.36\n",
       "244. 0.61\n",
       "245. -0.12\n",
       "246. 0.1\n",
       "247. -0.15\n",
       "248. 0.02\n",
       "249. 0.72\n",
       "250. 0.85\n",
       "251. -0.93\n",
       "252. 0.98\n",
       "253. 1\n",
       "254. 0.75\n",
       "255. -0.64\n",
       "256. 0.14\n",
       "257. -0.52\n",
       "258. -0.5\n",
       "259. -0.52\n",
       "260. -0.36\n",
       "261. 0.55\n",
       "262. -0.33\n",
       "263. 0.21\n",
       "264. -0.09\n",
       "265. 0.1\n",
       "266. 0.67\n",
       "267. 0.49\n",
       "268. -0.9\n",
       "269. 0.64\n",
       "270. 0.75\n",
       "271. 1\n",
       "272. -0.98\n",
       "273. -0.16\n",
       "274. 0.51\n",
       "275. 0.48\n",
       "276. 0.51\n",
       "277. 0.33\n",
       "278. -0.49\n",
       "279. 0.39\n",
       "280. -0.21\n",
       "281. 0.09\n",
       "282. -0.15\n",
       "283. -0.63\n",
       "284. -0.39\n",
       "285. 0.81\n",
       "286. -0.53\n",
       "287. -0.64\n",
       "288. -0.98\n",
       "289. 1\n",
       "\n",
       "\n"
      ],
      "text/plain": [
       "                   ID Total_richness Tree_richness Shrub_richness Herb_richness\n",
       "ID               1.00          -0.08         -0.14          -0.08          0.03\n",
       "Total_richness  -0.08           1.00          0.73           0.87          0.87\n",
       "Tree_richness   -0.14           0.73          1.00           0.65          0.51\n",
       "Shrub_richness  -0.08           0.87          0.65           1.00          0.67\n",
       "Herb_richness    0.03           0.87          0.51           0.67          1.00\n",
       "DTM_1_mean       0.10          -0.66         -0.69          -0.62         -0.57\n",
       "slope_1m_std     0.02           0.53          0.35           0.37          0.57\n",
       "norm_H_1_mean    0.02          -0.09         -0.10          -0.03         -0.13\n",
       "Asp_1m           0.11          -0.08         -0.04          -0.14         -0.12\n",
       "TWI_1m           0.02          -0.42         -0.25          -0.35         -0.46\n",
       "one_mean         0.06          -0.69         -0.51          -0.63         -0.61\n",
       "one_std          0.08          -0.43         -0.38          -0.37         -0.34\n",
       "homogeneity_1   -0.03           0.47          0.46           0.46          0.33\n",
       "contrast_1       0.00          -0.45         -0.42          -0.38         -0.35\n",
       "dissimilarity_1  0.01          -0.48         -0.45          -0.43         -0.36\n",
       "entropy_1        0.14          -0.52         -0.50          -0.52         -0.36\n",
       "second_moment_1 -0.16           0.51          0.48           0.51          0.33\n",
       "                DTM_1_mean slope_1m_std norm_H_1_mean Asp_1m TWI_1m one_mean\n",
       "ID                    0.10         0.02          0.02   0.11   0.02     0.06\n",
       "Total_richness       -0.66         0.53         -0.09  -0.08  -0.42    -0.69\n",
       "Tree_richness        -0.69         0.35         -0.10  -0.04  -0.25    -0.51\n",
       "Shrub_richness       -0.62         0.37         -0.03  -0.14  -0.35    -0.63\n",
       "Herb_richness        -0.57         0.57         -0.13  -0.12  -0.46    -0.61\n",
       "DTM_1_mean            1.00        -0.24          0.01   0.10   0.14     0.51\n",
       "slope_1m_std         -0.24         1.00         -0.18   0.04  -0.69    -0.44\n",
       "norm_H_1_mean         0.01        -0.18          1.00  -0.04  -0.24     0.05\n",
       "Asp_1m                0.10         0.04         -0.04   1.00  -0.06    -0.18\n",
       "TWI_1m                0.14        -0.69         -0.24  -0.06   1.00     0.39\n",
       "one_mean              0.51        -0.44          0.05  -0.18   0.39     1.00\n",
       "one_std               0.48        -0.03         -0.07  -0.17   0.09     0.69\n",
       "homogeneity_1        -0.63         0.17         -0.16   0.11   0.00    -0.66\n",
       "contrast_1            0.56        -0.10          0.03  -0.17   0.04     0.73\n",
       "dissimilarity_1       0.61        -0.12          0.10  -0.15   0.02     0.72\n",
       "entropy_1             0.55        -0.33          0.21  -0.09   0.10     0.67\n",
       "second_moment_1      -0.49         0.39         -0.21   0.09  -0.15    -0.63\n",
       "                one_std homogeneity_1 contrast_1 dissimilarity_1 entropy_1\n",
       "ID                 0.08         -0.03       0.00            0.01      0.14\n",
       "Total_richness    -0.43          0.47      -0.45           -0.48     -0.52\n",
       "Tree_richness     -0.38          0.46      -0.42           -0.45     -0.50\n",
       "Shrub_richness    -0.37          0.46      -0.38           -0.43     -0.52\n",
       "Herb_richness     -0.34          0.33      -0.35           -0.36     -0.36\n",
       "DTM_1_mean         0.48         -0.63       0.56            0.61      0.55\n",
       "slope_1m_std      -0.03          0.17      -0.10           -0.12     -0.33\n",
       "norm_H_1_mean     -0.07         -0.16       0.03            0.10      0.21\n",
       "Asp_1m            -0.17          0.11      -0.17           -0.15     -0.09\n",
       "TWI_1m             0.09          0.00       0.04            0.02      0.10\n",
       "one_mean           0.69         -0.66       0.73            0.72      0.67\n",
       "one_std            1.00         -0.69       0.88            0.85      0.49\n",
       "homogeneity_1     -0.69          1.00      -0.84           -0.93     -0.90\n",
       "contrast_1         0.88         -0.84       1.00            0.98      0.64\n",
       "dissimilarity_1    0.85         -0.93       0.98            1.00      0.75\n",
       "entropy_1          0.49         -0.90       0.64            0.75      1.00\n",
       "second_moment_1   -0.39          0.81      -0.53           -0.64     -0.98\n",
       "                second_moment_1\n",
       "ID                        -0.16\n",
       "Total_richness             0.51\n",
       "Tree_richness              0.48\n",
       "Shrub_richness             0.51\n",
       "Herb_richness              0.33\n",
       "DTM_1_mean                -0.49\n",
       "slope_1m_std               0.39\n",
       "norm_H_1_mean             -0.21\n",
       "Asp_1m                     0.09\n",
       "TWI_1m                    -0.15\n",
       "one_mean                  -0.63\n",
       "one_std                   -0.39\n",
       "homogeneity_1              0.81\n",
       "contrast_1                -0.53\n",
       "dissimilarity_1           -0.64\n",
       "entropy_1                 -0.98\n",
       "second_moment_1            1.00"
      ]
     },
     "metadata": {},
     "output_type": "display_data"
    },
    {
     "data": {
      "image/png": "[encoded data removed]",
      "text/plain": [
       "plot without title"
      ]
     },
     "metadata": {
      "image/svg+xml": {
       "isolated": true
      }
     },
     "output_type": "display_data"
    }
   ],
   "source": [
    "# Explore data using the total richness dataset ###\n",
    "par(mfrow=c(3,3))\n",
    "plot(dat$Total_richness ~ dat$one_mean)\n",
    "plot(dat$Total_richness ~ dat$DTM_1_mean)\n",
    "plot(dat$Total_richness ~ dat$slope_1m_std)\n",
    "plot(dat$Total_richness ~ dat$Asp_1m)\n",
    "plot(dat$Total_richness ~ dat$DTM)\n",
    "plot(dat$Total_richness ~ dat$homogeneity_1)\n",
    "\n",
    "# Do not use variables correlated with r > 0.7 at the same time. This is only a rule of thumb. \n",
    "round(cor(dat),2)   "
   ]
  },
  {
   "cell_type": "markdown",
   "metadata": {},
   "source": [
    "### As species richness values are typically count data, the corresponding asymmetry and heteroscedasticity in the error distribution has to be considered. Typical family distributions for count data are: Poisson, Quasi-Poisson and Negative Binomial.\n",
    "### The easier way to choose a family is looking at the QQplot and the residuals plot.\n",
    "\n",
    "### Lets start with a simple (non-adequate) linear regression."
   ]
  },
  {
   "cell_type": "code",
   "execution_count": 38,
   "metadata": {
    "collapsed": false
   },
   "outputs": [
    {
     "data": {
      "text/plain": [
       "\n",
       "Call:\n",
       "glm(formula = Total_richness ~ one_mean, family = gaussian(link = \"identity\"), \n",
       "    data = dat)\n",
       "\n",
       "Deviance Residuals: \n",
       "     Min        1Q    Median        3Q       Max  \n",
       "-12.2830   -2.7144   -0.3615    2.1811   13.4740  \n",
       "\n",
       "Coefficients:\n",
       "            Estimate Std. Error t value Pr(>|t|)    \n",
       "(Intercept)  30.3216     1.9682  15.406  < 2e-16 ***\n",
       "one_mean     -1.7693     0.2147  -8.242 3.78e-12 ***\n",
       "---\n",
       "Signif. codes:  0 '***' 0.001 '**' 0.01 '*' 0.05 '.' 0.1 ' ' 1\n",
       "\n",
       "(Dispersion parameter for gaussian family taken to be 22.61957)\n",
       "\n",
       "    Null deviance: 3255.8  on 77  degrees of freedom\n",
       "Residual deviance: 1719.1  on 76  degrees of freedom\n",
       "AIC: 468.6\n",
       "\n",
       "Number of Fisher Scoring iterations: 2\n"
      ]
     },
     "metadata": {},
     "output_type": "display_data"
    },
    {
     "data": {
      "image/png": "[encoded data removed]",
      "text/plain": [
       "Plot with title \"\""
      ]
     },
     "metadata": {
      "image/svg+xml": {
       "isolated": true
      }
     },
     "output_type": "display_data"
    }
   ],
   "source": [
    "m1 <- glm(Total_richness ~ one_mean, data=dat, family=gaussian(link=\"identity\"))\n",
    "par(mfrow=c(2,2))\n",
    "plot(m1) \n",
    "summary(m1)"
   ]
  },
  {
   "cell_type": "code",
   "execution_count": 48,
   "metadata": {
    "collapsed": false
   },
   "outputs": [
    {
     "data": {
      "image/png": "[encoded data removed]",
      "text/plain": [
       "Plot with title \"Histogram of resid(m2)\""
      ]
     },
     "metadata": {
      "image/svg+xml": {
       "isolated": true
      }
     },
     "output_type": "display_data"
    }
   ],
   "source": [
    "par(mfrow=c(1,2))\n",
    "plot(resid(m2))\n",
    "hist(resid(m2))"
   ]
  },
  {
   "cell_type": "markdown",
   "metadata": {},
   "source": [
    "### At least log-link transformation, which sometimes helps to model count data."
   ]
  },
  {
   "cell_type": "code",
   "execution_count": 37,
   "metadata": {
    "collapsed": false
   },
   "outputs": [
    {
     "data": {
      "text/plain": [
       "\n",
       "Call:\n",
       "glm(formula = Total_richness ~ one_mean, family = gaussian(link = \"log\"), \n",
       "    data = dat)\n",
       "\n",
       "Deviance Residuals: \n",
       "     Min        1Q    Median        3Q       Max  \n",
       "-13.4247   -2.4090   -0.2046    1.6541   13.2277  \n",
       "\n",
       "Coefficients:\n",
       "            Estimate Std. Error t value Pr(>|t|)    \n",
       "(Intercept)  3.75774    0.11782  31.893  < 2e-16 ***\n",
       "one_mean    -0.12676    0.01529  -8.293 3.03e-12 ***\n",
       "---\n",
       "Signif. codes:  0 '***' 0.001 '**' 0.01 '*' 0.05 '.' 0.1 ' ' 1\n",
       "\n",
       "(Dispersion parameter for gaussian family taken to be 21.61251)\n",
       "\n",
       "    Null deviance: 3255.8  on 77  degrees of freedom\n",
       "Residual deviance: 1642.6  on 76  degrees of freedom\n",
       "AIC: 465.04\n",
       "\n",
       "Number of Fisher Scoring iterations: 5\n"
      ]
     },
     "metadata": {},
     "output_type": "display_data"
    },
    {
     "data": {
      "image/png": "[encoded data removed]",
      "text/plain": [
       "Plot with title \"\""
      ]
     },
     "metadata": {
      "image/svg+xml": {
       "isolated": true
      }
     },
     "output_type": "display_data"
    }
   ],
   "source": [
    "m2 <- glm(Total_richness ~ one_mean, data=dat, family=gaussian(link=\"log\"))\n",
    "par(mfrow=c(2,2))\n",
    "plot(m2)  \n",
    "summary(m2)"
   ]
  },
  {
   "cell_type": "code",
   "execution_count": 47,
   "metadata": {
    "collapsed": false
   },
   "outputs": [
    {
     "data": {
      "image/png": "[encoded data removed]",
      "text/plain": [
       "Plot with title \"Histogram of resid(m2)\""
      ]
     },
     "metadata": {
      "image/svg+xml": {
       "isolated": true
      }
     },
     "output_type": "display_data"
    }
   ],
   "source": [
    "par(mfrow=c(1,2))\n",
    "plot(resid(m2))\n",
    "hist(resid(m2))"
   ]
  },
  {
   "cell_type": "markdown",
   "metadata": {},
   "source": [
    "### Test Poisson family with log-link"
   ]
  },
  {
   "cell_type": "code",
   "execution_count": 39,
   "metadata": {
    "collapsed": false
   },
   "outputs": [
    {
     "data": {
      "text/plain": [
       "\n",
       "Call:\n",
       "glm(formula = Total_richness ~ one_mean, family = poisson(link = \"log\"), \n",
       "    data = dat)\n",
       "\n",
       "Deviance Residuals: \n",
       "    Min       1Q   Median       3Q      Max  \n",
       "-3.2170  -0.7884  -0.0531   0.4437   3.1224  \n",
       "\n",
       "Coefficients:\n",
       "            Estimate Std. Error z value Pr(>|z|)    \n",
       "(Intercept)  3.75051    0.10380   36.13   <2e-16 ***\n",
       "one_mean    -0.12584    0.01234  -10.20   <2e-16 ***\n",
       "---\n",
       "Signif. codes:  0 '***' 0.001 '**' 0.01 '*' 0.05 '.' 0.1 ' ' 1\n",
       "\n",
       "(Dispersion parameter for poisson family taken to be 1)\n",
       "\n",
       "    Null deviance: 212.46  on 77  degrees of freedom\n",
       "Residual deviance: 104.90  on 76  degrees of freedom\n",
       "AIC: 455.65\n",
       "\n",
       "Number of Fisher Scoring iterations: 4\n"
      ]
     },
     "metadata": {},
     "output_type": "display_data"
    },
    {
     "data": {
      "image/png": "[encoded data removed]",
      "text/plain": [
       "Plot with title \"\""
      ]
     },
     "metadata": {
      "image/svg+xml": {
       "isolated": true
      }
     },
     "output_type": "display_data"
    }
   ],
   "source": [
    "m3 <- glm(Total_richness ~ one_mean, data=dat, family=poisson(link=\"log\"))\n",
    "par(mfrow=c(2,2))\n",
    "plot(m3)   \n",
    "summary(m3)"
   ]
  },
  {
   "cell_type": "code",
   "execution_count": 46,
   "metadata": {
    "collapsed": false
   },
   "outputs": [
    {
     "data": {
      "image/png": "[encoded data removed]",
      "text/plain": [
       "Plot with title \"Histogram of resid(m3)\""
      ]
     },
     "metadata": {
      "image/svg+xml": {
       "isolated": true
      }
     },
     "output_type": "display_data"
    }
   ],
   "source": [
    "par(mfrow=c(1,2))\n",
    "plot(resid(m3))\n",
    "hist(resid(m3))"
   ]
  },
  {
   "cell_type": "markdown",
   "metadata": {},
   "source": [
    "### Test Quasi-Poisson family with log-link"
   ]
  },
  {
   "cell_type": "code",
   "execution_count": 40,
   "metadata": {
    "collapsed": false
   },
   "outputs": [
    {
     "data": {
      "text/plain": [
       "\n",
       "Call:\n",
       "glm(formula = Total_richness ~ one_mean, family = quasipoisson(link = \"log\"), \n",
       "    data = dat)\n",
       "\n",
       "Deviance Residuals: \n",
       "    Min       1Q   Median       3Q      Max  \n",
       "-3.2170  -0.7884  -0.0531   0.4437   3.1224  \n",
       "\n",
       "Coefficients:\n",
       "            Estimate Std. Error t value Pr(>|t|)    \n",
       "(Intercept)  3.75051    0.12304  30.481  < 2e-16 ***\n",
       "one_mean    -0.12584    0.01463  -8.601 7.77e-13 ***\n",
       "---\n",
       "Signif. codes:  0 '***' 0.001 '**' 0.01 '*' 0.05 '.' 0.1 ' ' 1\n",
       "\n",
       "(Dispersion parameter for quasipoisson family taken to be 1.405099)\n",
       "\n",
       "    Null deviance: 212.46  on 77  degrees of freedom\n",
       "Residual deviance: 104.90  on 76  degrees of freedom\n",
       "AIC: NA\n",
       "\n",
       "Number of Fisher Scoring iterations: 4\n"
      ]
     },
     "metadata": {},
     "output_type": "display_data"
    },
    {
     "data": {
      "image/png": "[encoded data removed]",
      "text/plain": [
       "Plot with title \"\""
      ]
     },
     "metadata": {
      "image/svg+xml": {
       "isolated": true
      }
     },
     "output_type": "display_data"
    }
   ],
   "source": [
    "m4 <- glm(Total_richness ~ one_mean, data=dat, family=quasipoisson(link=\"log\"))\n",
    "par(mfrow=c(2,2))\n",
    "plot(m4)   \n",
    "summary(m4)"
   ]
  },
  {
   "cell_type": "code",
   "execution_count": 45,
   "metadata": {
    "collapsed": false
   },
   "outputs": [
    {
     "data": {
      "image/png": "[encoded data removed]",
      "text/plain": [
       "Plot with title \"Histogram of resid(m4)\""
      ]
     },
     "metadata": {
      "image/svg+xml": {
       "isolated": true
      }
     },
     "output_type": "display_data"
    }
   ],
   "source": [
    "par(mfrow=c(1,2))\n",
    "plot(resid(m4))\n",
    "hist(resid(m4))"
   ]
  },
  {
   "cell_type": "markdown",
   "metadata": {},
   "source": [
    "### Test Negative binomial family with theta=1. QQplot: Appears to be the best one."
   ]
  },
  {
   "cell_type": "code",
   "execution_count": 36,
   "metadata": {
    "collapsed": false
   },
   "outputs": [
    {
     "data": {
      "text/plain": [
       "\n",
       "Call:\n",
       "glm(formula = Total_richness ~ one_mean, family = negative.binomial(theta = 1, \n",
       "    link = \"log\"), data = dat)\n",
       "\n",
       "Deviance Residuals: \n",
       "     Min        1Q    Median        3Q       Max  \n",
       "-0.75993  -0.23767  -0.01779   0.10644   0.81427  \n",
       "\n",
       "Coefficients:\n",
       "            Estimate Std. Error t value Pr(>|t|)    \n",
       "(Intercept)  3.72660    0.13013  28.638  < 2e-16 ***\n",
       "one_mean    -0.12302    0.01428  -8.614 7.32e-13 ***\n",
       "---\n",
       "Signif. codes:  0 '***' 0.001 '**' 0.01 '*' 0.05 '.' 0.1 ' ' 1\n",
       "\n",
       "(Dispersion parameter for Negative Binomial(1) family taken to be 0.09202427)\n",
       "\n",
       "    Null deviance: 13.8177  on 77  degrees of freedom\n",
       "Residual deviance:  6.9275  on 76  degrees of freedom\n",
       "AIC: 577.79\n",
       "\n",
       "Number of Fisher Scoring iterations: 4\n"
      ]
     },
     "metadata": {},
     "output_type": "display_data"
    },
    {
     "data": {
      "image/png": "[encoded data removed]",
      "text/plain": [
       "Plot with title \"\""
      ]
     },
     "metadata": {
      "image/svg+xml": {
       "isolated": true
      }
     },
     "output_type": "display_data"
    }
   ],
   "source": [
    "m5 <- glm(Total_richness ~ one_mean, data=dat, family=negative.binomial(theta = 1, link=\"log\"))\n",
    "par(mfrow=c(2,2))\n",
    "plot(m5)   \n",
    "summary(m5)"
   ]
  },
  {
   "cell_type": "code",
   "execution_count": 44,
   "metadata": {
    "collapsed": false
   },
   "outputs": [
    {
     "data": {
      "image/png": "[encoded data removed]",
      "text/plain": [
       "Plot with title \"Histogram of resid(m5)\""
      ]
     },
     "metadata": {
      "image/svg+xml": {
       "isolated": true
      }
     },
     "output_type": "display_data"
    }
   ],
   "source": [
    "par(mfrow=c(1,2))\n",
    "plot(resid(m5))\n",
    "hist(resid(m5))"
   ]
  },
  {
   "cell_type": "markdown",
   "metadata": {},
   "source": [
    "### We selected negative binomial. Let see the assumed error distribution using different theta for this model."
   ]
  },
  {
   "cell_type": "code",
   "execution_count": 60,
   "metadata": {
    "collapsed": false
   },
   "outputs": [
    {
     "data": {
      "text/html": [
       "39.009206625883"
      ],
      "text/latex": [
       "39.009206625883"
      ],
      "text/markdown": [
       "39.009206625883"
      ],
      "text/plain": [
       "[1] 39.00921"
      ]
     },
     "metadata": {},
     "output_type": "display_data"
    },
    {
     "data": {
      "image/png": "[encoded data removed]",
      "text/plain": [
       "Plot with title \"Assumed error distribution\""
      ]
     },
     "metadata": {
      "image/svg+xml": {
       "isolated": true
      }
     },
     "output_type": "display_data"
    }
   ],
   "source": [
    "m5.nb <- glm.nb(Total_richness ~ one_mean, data=dat)\n",
    "m5.nb$theta\n",
    "theta.est <- round(m5.nb$theta,0)\n",
    "x <- 1:40\n",
    "par(mfrow=c(1,1))\n",
    "plot(x, dnbinom(x, size=1, mu=mean(dat$Total_richness), log = FALSE), ylim=c(0,0.1), type=\"l\", \n",
    "     main=\"Assumed error distribution\", ylab=\"Density\", xlab=\"Species number\")\n",
    "lines(x, dnorm(x, mean=mean(dat$Total_richness), sd=sd(dat$Total_richness)), lty=2)\n",
    "lines(x,dnbinom(x, size=theta.est, mu=mean(dat$Total_richness), log = FALSE), lty=3)\n",
    "legend(\"topright\", legend=c(\"Normal distribution\", \"Negative binomial (theta=1)\", \n",
    "                            paste(\"Negative binomial (theta=\", theta.est, \")\", sep=\"\")), lty=c(2,1,3))\n"
   ]
  },
  {
   "cell_type": "markdown",
   "metadata": {},
   "source": [
    "### Compare the bias of the regular linear regresion (gaussian) vs the bias obtained with negative binomial. The values had to be as close as possible to 1.\n",
    "### Negative binomial (m5) does not have a bias at all at the link scale, which is relevant for the model algorithm."
   ]
  },
  {
   "cell_type": "code",
   "execution_count": 66,
   "metadata": {
    "collapsed": false
   },
   "outputs": [
    {
     "data": {
      "text/html": [
       "<strong>dat$Total_richness:</strong> 0.914693958424838"
      ],
      "text/latex": [
       "\\textbf{dat\\textbackslash{}\\$Total\\textbackslash{}\\_richness:} 0.914693958424838"
      ],
      "text/markdown": [
       "**dat$Total_richness:** 0.914693958424838"
      ],
      "text/plain": [
       "dat$Total_richness \n",
       "          0.914694 "
      ]
     },
     "metadata": {},
     "output_type": "display_data"
    },
    {
     "data": {
      "text/html": [
       "<strong>log(dat$Total_richness):</strong> 1.00367729207164"
      ],
      "text/latex": [
       "\\textbf{log(dat\\textbackslash{}\\$Total\\textbackslash{}\\_richness):} 1.00367729207164"
      ],
      "text/markdown": [
       "**log(dat$Total_richness):** 1.00367729207164"
      ],
      "text/plain": [
       "log(dat$Total_richness) \n",
       "               1.003677 "
      ]
     },
     "metadata": {},
     "output_type": "display_data"
    },
    {
     "data": {
      "text/html": [
       "<strong>dat$Total_richness:</strong> 0.914693958424838"
      ],
      "text/latex": [
       "\\textbf{dat\\textbackslash{}\\$Total\\textbackslash{}\\_richness:} 0.914693958424838"
      ],
      "text/markdown": [
       "**dat$Total_richness:** 0.914693958424838"
      ],
      "text/plain": [
       "dat$Total_richness \n",
       "          0.914694 "
      ]
     },
     "metadata": {},
     "output_type": "display_data"
    },
    {
     "data": {
      "text/html": [
       "<strong>dat$Total_richness:</strong> 0.915262483675039"
      ],
      "text/latex": [
       "\\textbf{dat\\textbackslash{}\\$Total\\textbackslash{}\\_richness:} 0.915262483675039"
      ],
      "text/markdown": [
       "**dat$Total_richness:** 0.915262483675039"
      ],
      "text/plain": [
       "dat$Total_richness \n",
       "         0.9152625 "
      ]
     },
     "metadata": {},
     "output_type": "display_data"
    }
   ],
   "source": [
    "lm(predict(m1, type=\"link\") ~ dat$Total_richness -1)$coef\n",
    "lm(predict(m5, type=\"link\") ~ log(dat$Total_richness) -1)$coef\n",
    "### m5 does not have a bias at all at the link scale, which is relevant for the model algorithm. \n",
    "\n",
    "### Back transformed: This bias is relavant for predictions.\n",
    "lm(predict(m1, type=\"response\") ~ (dat$Total_richness) -1)$coef \n",
    "lm(predict(m5, type=\"response\") ~ (dat$Total_richness) -1)$coef "
   ]
  },
  {
   "cell_type": "markdown",
   "metadata": {},
   "source": [
    "### Check for a variable selection using hirarquical partitioning. Is a linear method that allows to select the model family. So we use it with negative binomial."
   ]
  },
  {
   "cell_type": "code",
   "execution_count": 71,
   "metadata": {
    "collapsed": false
   },
   "outputs": [
    {
     "name": "stdout",
     "output_type": "stream",
     "text": [
      "500 regressions calculated: 3595 to go...\n",
      "1000 regressions calculated: 3095 to go...\n",
      "1500 regressions calculated: 2595 to go...\n",
      "2000 regressions calculated: 2095 to go...\n",
      "2500 regressions calculated: 1595 to go...\n",
      "3000 regressions calculated: 1095 to go...\n",
      "3500 regressions calculated: 595 to go...\n",
      "4000 regressions calculated: 95 to go...\n"
     ]
    },
    {
     "name": "stderr",
     "output_type": "stream",
     "text": [
      "Warning message:\n",
      ": hier.part produces a rounding error if number of variables >9\n",
      "See documentation."
     ]
    },
    {
     "data": {
      "text/html": [
       "<table>\n",
       "<thead><tr><th></th><th scope=col>I</th></tr></thead>\n",
       "<tbody>\n",
       "\t<tr><th scope=row>one_mean</th><td>17.06928</td></tr>\n",
       "\t<tr><th scope=row>DTM_1_mean</th><td>16.43834</td></tr>\n",
       "\t<tr><th scope=row>slope_1m_std</th><td>10.74803</td></tr>\n",
       "\t<tr><th scope=row>norm_H_1_mean</th><td>2.143755</td></tr>\n",
       "\t<tr><th scope=row>Asp_1m</th><td>2.445562</td></tr>\n",
       "\t<tr><th scope=row>TWI_1m</th><td>8.12303</td></tr>\n",
       "\t<tr><th scope=row>one_std</th><td>6.724389</td></tr>\n",
       "\t<tr><th scope=row>homogeneity_1</th><td>6.247632</td></tr>\n",
       "\t<tr><th scope=row>contrast_1</th><td>7.235061</td></tr>\n",
       "\t<tr><th scope=row>dissimilarity_1</th><td>7.565741</td></tr>\n",
       "\t<tr><th scope=row>entropy_1</th><td>7.979936</td></tr>\n",
       "\t<tr><th scope=row>second_moment_1</th><td>7.279249</td></tr>\n",
       "</tbody>\n",
       "</table>\n"
      ],
      "text/latex": [
       "\\begin{tabular}{r|l}\n",
       "  & I\\\\\n",
       "\\hline\n",
       "\tone\\_mean & 17.06928\\\\\n",
       "\tDTM\\_1\\_mean & 16.43834\\\\\n",
       "\tslope\\_1m\\_std & 10.74803\\\\\n",
       "\tnorm\\_H\\_1\\_mean & 2.143755\\\\\n",
       "\tAsp\\_1m & 2.445562\\\\\n",
       "\tTWI\\_1m & 8.12303\\\\\n",
       "\tone\\_std & 6.724389\\\\\n",
       "\thomogeneity\\_1 & 6.247632\\\\\n",
       "\tcontrast\\_1 & 7.235061\\\\\n",
       "\tdissimilarity\\_1 & 7.565741\\\\\n",
       "\tentropy\\_1 & 7.979936\\\\\n",
       "\tsecond\\_moment\\_1 & 7.279249\\\\\n",
       "\\end{tabular}\n"
      ],
      "text/plain": [
       "                        I\n",
       "one_mean        17.069282\n",
       "DTM_1_mean      16.438337\n",
       "slope_1m_std    10.748027\n",
       "norm_H_1_mean    2.143755\n",
       "Asp_1m           2.445562\n",
       "TWI_1m           8.123030\n",
       "one_std          6.724389\n",
       "homogeneity_1    6.247632\n",
       "contrast_1       7.235061\n",
       "dissimilarity_1  7.565741\n",
       "entropy_1        7.979936\n",
       "second_moment_1  7.279249"
      ]
     },
     "metadata": {},
     "output_type": "display_data"
    },
    {
     "data": {
      "text/html": [
       "<ol class=list-inline>\n",
       "\t<li>\"one_mean\"</li>\n",
       "\t<li>\"DTM_1_mean\"</li>\n",
       "\t<li>\"slope_1m_std\"</li>\n",
       "\t<li>\"TWI_1m\"</li>\n",
       "\t<li>\"entropy_1\"</li>\n",
       "\t<li>\"dissimilarity_1\"</li>\n",
       "\t<li>\"second_moment_1\"</li>\n",
       "\t<li>\"contrast_1\"</li>\n",
       "\t<li>\"one_std\"</li>\n",
       "\t<li>\"homogeneity_1\"</li>\n",
       "\t<li>\"Asp_1m\"</li>\n",
       "\t<li>\"norm_H_1_mean\"</li>\n",
       "</ol>\n"
      ],
      "text/latex": [
       "\\begin{enumerate*}\n",
       "\\item \"one\\_mean\"\n",
       "\\item \"DTM\\_1\\_mean\"\n",
       "\\item \"slope\\_1m\\_std\"\n",
       "\\item \"TWI\\_1m\"\n",
       "\\item \"entropy\\_1\"\n",
       "\\item \"dissimilarity\\_1\"\n",
       "\\item \"second\\_moment\\_1\"\n",
       "\\item \"contrast\\_1\"\n",
       "\\item \"one\\_std\"\n",
       "\\item \"homogeneity\\_1\"\n",
       "\\item \"Asp\\_1m\"\n",
       "\\item \"norm\\_H\\_1\\_mean\"\n",
       "\\end{enumerate*}\n"
      ],
      "text/markdown": [
       "1. \"one_mean\"\n",
       "2. \"DTM_1_mean\"\n",
       "3. \"slope_1m_std\"\n",
       "4. \"TWI_1m\"\n",
       "5. \"entropy_1\"\n",
       "6. \"dissimilarity_1\"\n",
       "7. \"second_moment_1\"\n",
       "8. \"contrast_1\"\n",
       "9. \"one_std\"\n",
       "10. \"homogeneity_1\"\n",
       "11. \"Asp_1m\"\n",
       "12. \"norm_H_1_mean\"\n",
       "\n",
       "\n"
      ],
      "text/plain": [
       " [1] \"one_mean\"        \"DTM_1_mean\"      \"slope_1m_std\"    \"TWI_1m\"         \n",
       " [5] \"entropy_1\"       \"dissimilarity_1\" \"second_moment_1\" \"contrast_1\"     \n",
       " [9] \"one_std\"         \"homogeneity_1\"   \"Asp_1m\"          \"norm_H_1_mean\"  "
      ]
     },
     "metadata": {},
     "output_type": "display_data"
    },
    {
     "data": {
      "image/png": "[encoded data removed]",
      "text/plain": [
       "plot without title"
      ]
     },
     "metadata": {
      "image/svg+xml": {
       "isolated": true
      }
     },
     "output_type": "display_data"
    }
   ],
   "source": [
    "hp <- hier.part(dat$Total_richness, dat[,c(\"one_mean\", \"DTM_1_mean\", \"slope_1m_std\", \"norm_H_1_mean\", \"Asp_1m\", \"TWI_1m\",\n",
    "                                           \"one_std\", \"homogeneity_1\", \"contrast_1\", \"dissimilarity_1\", \"entropy_1\",\n",
    "                                           \"second_moment_1\" )],  family=negative.binomial(theta=1 , link=\"log\"))\n",
    "hp$I.perc\n",
    "o <-  order(hp$I.perc$I, decreasing=T)\n",
    "rownames(hp$I.perc)[o]"
   ]
  },
  {
   "cell_type": "markdown",
   "metadata": {},
   "source": [
    "### Check that the best variables are not correlated among them"
   ]
  },
  {
   "cell_type": "code",
   "execution_count": 70,
   "metadata": {
    "collapsed": false
   },
   "outputs": [
    {
     "data": {
      "text/html": [
       "<table>\n",
       "<thead><tr><th></th><th scope=col>dat.one_mean</th><th scope=col>dat.DTM_1_mean</th><th scope=col>dat.slope_1m_std</th><th scope=col>dat.TWI_1m</th><th scope=col>dat.entropy_1</th><th scope=col>dat.second_moment_1</th></tr></thead>\n",
       "<tbody>\n",
       "\t<tr><th scope=row>dat.one_mean</th><td> 1.0000000</td><td> 0.5071905</td><td>-0.4411427</td><td> 0.3894525</td><td> 0.6654368</td><td>-0.6332327</td></tr>\n",
       "\t<tr><th scope=row>dat.DTM_1_mean</th><td> 0.5071905</td><td> 1.0000000</td><td>-0.2361174</td><td> 0.1444776</td><td> 0.5455333</td><td>-0.4896165</td></tr>\n",
       "\t<tr><th scope=row>dat.slope_1m_std</th><td>-0.4411427</td><td>-0.2361174</td><td> 1.0000000</td><td>-0.6945329</td><td>-0.3283703</td><td> 0.3855518</td></tr>\n",
       "\t<tr><th scope=row>dat.TWI_1m</th><td> 0.38945254</td><td> 0.14447761</td><td>-0.69453285</td><td> 1.00000000</td><td> 0.09633299</td><td>-0.15253195</td></tr>\n",
       "\t<tr><th scope=row>dat.entropy_1</th><td> 0.66543683</td><td> 0.54553331</td><td>-0.32837030</td><td> 0.09633299</td><td> 1.00000000</td><td>-0.97856870</td></tr>\n",
       "\t<tr><th scope=row>dat.second_moment_1</th><td>-0.6332327</td><td>-0.4896165</td><td> 0.3855518</td><td>-0.1525319</td><td>-0.9785687</td><td> 1.0000000</td></tr>\n",
       "</tbody>\n",
       "</table>\n"
      ],
      "text/latex": [
       "\\begin{tabular}{r|llllll}\n",
       "  & dat.one\\_mean & dat.DTM\\_1\\_mean & dat.slope\\_1m\\_std & dat.TWI\\_1m & dat.entropy\\_1 & dat.second\\_moment\\_1\\\\\n",
       "\\hline\n",
       "\tdat.one\\_mean &  1.0000000 &  0.5071905 & -0.4411427 &  0.3894525 &  0.6654368 & -0.6332327\\\\\n",
       "\tdat.DTM\\_1\\_mean &  0.5071905 &  1.0000000 & -0.2361174 &  0.1444776 &  0.5455333 & -0.4896165\\\\\n",
       "\tdat.slope\\_1m\\_std & -0.4411427 & -0.2361174 &  1.0000000 & -0.6945329 & -0.3283703 &  0.3855518\\\\\n",
       "\tdat.TWI\\_1m &  0.38945254 &  0.14447761 & -0.69453285 &  1.00000000 &  0.09633299 & -0.15253195\\\\\n",
       "\tdat.entropy\\_1 &  0.66543683 &  0.54553331 & -0.32837030 &  0.09633299 &  1.00000000 & -0.97856870\\\\\n",
       "\tdat.second\\_moment\\_1 & -0.6332327 & -0.4896165 &  0.3855518 & -0.1525319 & -0.9785687 &  1.0000000\\\\\n",
       "\\end{tabular}\n"
      ],
      "text/markdown": [
       "1. 1\n",
       "2. 0.507190482350026\n",
       "3. -0.441142720344867\n",
       "4. 0.389452539831641\n",
       "5. 0.665436827125813\n",
       "6. -0.63323271646618\n",
       "7. 0.507190482350026\n",
       "8. 1\n",
       "9. -0.236117426783958\n",
       "10. 0.144477611300665\n",
       "11. 0.545533310407341\n",
       "12. -0.489616535129794\n",
       "13. -0.441142720344867\n",
       "14. -0.236117426783958\n",
       "15. 1\n",
       "16. -0.69453285253744\n",
       "17. -0.3283703033018\n",
       "18. 0.385551816843224\n",
       "19. 0.389452539831641\n",
       "20. 0.144477611300665\n",
       "21. -0.69453285253744\n",
       "22. 1\n",
       "23. 0.0963329898476165\n",
       "24. -0.152531945147557\n",
       "25. 0.665436827125813\n",
       "26. 0.545533310407341\n",
       "27. -0.3283703033018\n",
       "28. 0.0963329898476165\n",
       "29. 1\n",
       "30. -0.978568695747862\n",
       "31. -0.63323271646618\n",
       "32. -0.489616535129794\n",
       "33. 0.385551816843224\n",
       "34. -0.152531945147557\n",
       "35. -0.978568695747862\n",
       "36. 1\n",
       "\n",
       "\n"
      ],
      "text/plain": [
       "                    dat.one_mean dat.DTM_1_mean dat.slope_1m_std  dat.TWI_1m\n",
       "dat.one_mean           1.0000000      0.5071905       -0.4411427  0.38945254\n",
       "dat.DTM_1_mean         0.5071905      1.0000000       -0.2361174  0.14447761\n",
       "dat.slope_1m_std      -0.4411427     -0.2361174        1.0000000 -0.69453285\n",
       "dat.TWI_1m             0.3894525      0.1444776       -0.6945329  1.00000000\n",
       "dat.entropy_1          0.6654368      0.5455333       -0.3283703  0.09633299\n",
       "dat.second_moment_1   -0.6332327     -0.4896165        0.3855518 -0.15253195\n",
       "                    dat.entropy_1 dat.second_moment_1\n",
       "dat.one_mean           0.66543683          -0.6332327\n",
       "dat.DTM_1_mean         0.54553331          -0.4896165\n",
       "dat.slope_1m_std      -0.32837030           0.3855518\n",
       "dat.TWI_1m             0.09633299          -0.1525319\n",
       "dat.entropy_1          1.00000000          -0.9785687\n",
       "dat.second_moment_1   -0.97856870           1.0000000"
      ]
     },
     "metadata": {},
     "output_type": "display_data"
    }
   ],
   "source": [
    "COR<-data.frame(dat$one_mean, dat$DTM_1_mean, dat$slope_1m_std, dat$TWI_1m, dat$entropy_1, dat$second_moment_1)\n",
    "COR<-cor(COR)\n",
    "COR"
   ]
  },
  {
   "cell_type": "markdown",
   "metadata": {},
   "source": [
    "### The best variables are the hight canopy (one_mean), the altitude (DTM_1_mean) and the standard deviation of the slope (slope_1m_std). "
   ]
  }
 ],
 "metadata": {
  "kernelspec": {
   "display_name": "R",
   "language": "R",
   "name": "ir"
  },
  "language_info": {
   "codemirror_mode": "r",
   "file_extension": ".r",
   "mimetype": "text/x-r-source",
   "name": "R",
   "pygments_lexer": "r",
   "version": "3.3.0"
  }
 },
 "nbformat": 4,
 "nbformat_minor": 0
}
