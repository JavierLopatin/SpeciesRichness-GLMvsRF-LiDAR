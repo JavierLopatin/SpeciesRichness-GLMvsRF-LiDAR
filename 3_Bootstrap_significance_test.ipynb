{
 "cells": [
  {
   "cell_type": "markdown",
   "metadata": {},
   "source": [
    "# Bootstrap significance test\n",
    "### author:  Klara Dolos\n",
    "### mail: klara.dolos@kit.de\n",
    "### Manuscript: Comparing Generalized Linear Models and random forest to model vascular plant species richness using LiDAR data in a natural forest in central Chile\n",
    "### last changes: 12/11/2015\n",
    "\n",
    "## ==============================================================\n",
    "\n",
    "### load the require packages"
   ]
  },
  {
   "cell_type": "code",
   "execution_count": 1,
   "metadata": {
    "collapsed": false
   },
   "outputs": [
    {
     "name": "stderr",
     "output_type": "stream",
     "text": [
      "Loading required package: boot\n",
      "Loading required package: MASS\n",
      "Loading required package: randomForest\n",
      "randomForest 4.6-12\n",
      "Type rfNews() to see new features/changes/bug fixes.\n"
     ]
    },
    {
     "data": {
      "text/html": [
       "<ol>\n",
       "\t<li>TRUE</li>\n",
       "\t<li>TRUE</li>\n",
       "\t<li>TRUE</li>\n",
       "</ol>\n"
      ],
      "text/latex": [
       "\\begin{enumerate}\n",
       "\\item TRUE\n",
       "\\item TRUE\n",
       "\\item TRUE\n",
       "\\end{enumerate}\n"
      ],
      "text/markdown": [
       "1. TRUE\n",
       "2. TRUE\n",
       "3. TRUE\n",
       "\n",
       "\n"
      ],
      "text/plain": [
       "[[1]]\n",
       "[1] TRUE\n",
       "\n",
       "[[2]]\n",
       "[1] TRUE\n",
       "\n",
       "[[3]]\n",
       "[1] TRUE\n"
      ]
     },
     "metadata": {},
     "output_type": "display_data"
    }
   ],
   "source": [
    "pkgs<-c(\"boot\", \"MASS\", \"randomForest\")\n",
    "lapply(pkgs, require, character.only=T)"
   ]
  },
  {
   "cell_type": "code",
   "execution_count": 7,
   "metadata": {
    "collapsed": false
   },
   "outputs": [
    {
     "ename": "ERROR",
     "evalue": "Error in setwd(\"C:/User/Lopatin/Dropbox/Publications/SpeciesRichness-GLMvsRF-LiDAR\"): cannot change working directory\n",
     "output_type": "error",
     "traceback": [
      "Error in setwd(\"C:/User/Lopatin/Dropbox/Publications/SpeciesRichness-GLMvsRF-LiDAR\"): cannot change working directory\nTraceback:\n",
      "1. setwd(\"C:/User/Lopatin/Dropbox/Publications/SpeciesRichness-GLMvsRF-LiDAR\")"
     ]
    }
   ],
   "source": [
    "# set working directory\n",
    "setwd(\"C:/User/Lopatin/Dropbox/Publications/SpeciesRichness-GLMvsRF-LiDAR\")"
   ]
  },
  {
   "cell_type": "markdown",
   "metadata": {},
   "source": [
    "### Set the bootstrap test to check for significant differences"
   ]
  },
  {
   "cell_type": "code",
   "execution_count": 29,
   "metadata": {
    "collapsed": true
   },
   "outputs": [],
   "source": [
    "to_boot_all <- function(data, i){\n",
    "  reponse_names <- c(\"Total_richness\", \"Tree_richness\", \"Shrub_richness\", \"Herb_richness\")\n",
    "  diff_r2 <- numeric()\n",
    "  diff_bias <- numeric()\n",
    "  diff_rmse <- numeric()\n",
    "  for ( i in 1:length(reponse_names)){\n",
    "    data$response <- data[,reponse_names[i]]\n",
    "    # best GLM model\n",
    "    m1 <- glm(response ~ one_mean + DTM_1_mean + slope_1m_std, data=data, family=negative.binomial(theta=1 , link=\"log\"))    \n",
    "    # best RF model\n",
    "    m2 <- randomForest(response ~ DTM_1_mean + slope_1m_std + norm_H_1_mean + norm_H_1_mean + Asp_1m + TWI_1m + \n",
    "                       TWI_1m + one_mean + one_std + homogeneity_1 + contrast_1 + dissimilarity_1 + entropy_1 +\n",
    "                       second_moment_1, data=data,  ntrees=500, na.action= na.roughfix,importance=F, do.trace=100, mtry=7)\n",
    "    \n",
    "    ### compute the differences between GLM and RF\n",
    "    ### r2 of GLM should be larger. So, if r2(m1) - r2(m2) is positive, GLM is better.\n",
    "    diff_r2[i] <- cor(data$response, predict(m1))^2 - cor(data$response, predict(m2))^2\n",
    "    \n",
    "    ### RMSE of GLM should be smaller. So, if rmse(m2) - rmse(m1) is positive, GLM is better. \n",
    "    diff_rmse[i] <- sqrt(mean((data$response-predict(m2, type=\"response\"))^2)) - \n",
    "      sqrt(mean((data$response-predict(m1, type=\"response\"))^2))\n",
    "    \n",
    "    ### Bias of GLM should be smaller. So, if bias(m2) - bias(m1) is positive, GLM is better. \n",
    "    diff_bias[i] <- (1 - lm(data$response ~ predict(m2, type=\"response\") -1)$coef)- \n",
    "      (1 - lm(data$response ~ predict(m1, type=\"response\") -1)$coef)  \n",
    "    }\n",
    "    # store the differences \n",
    "   c(diff_r2, diff_rmse, diff_bias)\n",
    "}"
   ]
  },
  {
   "cell_type": "markdown",
   "metadata": {},
   "source": [
    "### Execute the test \n",
    "\n",
    "#### The black \"zero-line\" needs to be left of the blue \"alpha-line\". The green line is just the upper quantile."
   ]
  },
  {
   "cell_type": "code",
   "execution_count": 31,
   "metadata": {
    "collapsed": false
   },
   "outputs": [
    {
     "data": {
      "text/plain": [
       "\n",
       "ORDINARY NONPARAMETRIC BOOTSTRAP\n",
       "\n",
       "\n",
       "Call:\n",
       "boot(data = dat, statistic = to_boot_all, R = 500, stype = \"i\")\n",
       "\n",
       "\n",
       "Bootstrap Statistics :\n",
       "         original        bias    std. error\n",
       "t1*   0.093260523  1.182807e-02 0.008909056\n",
       "t2*   0.176486742  4.176354e-03 0.009462601\n",
       "t3*   0.082022229  5.456953e-05 0.008305170\n",
       "t4*   0.086013991 -1.508202e-02 0.009260258\n",
       "t5*   0.526662723  5.216360e-02 0.040084758\n",
       "t6*   0.391152855  9.063084e-03 0.019757476\n",
       "t7*   0.354710918 -1.951336e-03 0.025117912\n",
       "t8*  -0.055753821 -3.771574e-02 0.025561665\n",
       "t9*  -0.007979791  1.678664e-03 0.003421559\n",
       "t10* -0.005776518  2.770654e-03 0.003476850\n",
       "t11*  0.022318699 -3.642717e-03 0.003343449\n",
       "t12* -0.046590465 -3.754835e-03 0.005498956"
      ]
     },
     "metadata": {},
     "output_type": "display_data"
    },
    {
     "data": {
      "image/png": "[encoded data removed]",
      "text/plain": [
       "Plot with title \"Herb_richness_bias\""
      ]
     },
     "metadata": {
      "image/svg+xml": {
       "isolated": true
      }
     },
     "output_type": "display_data"
    }
   ],
   "source": [
    "# load data\n",
    "dat <- read.table(\"Richness_model.csv\", header=T, sep=\",\", dec=\".\")\n",
    "\n",
    "# apply boot test and prepare the results\n",
    "#boot.result <- boot(data=dat, statistic=to_boot_all, R=500, stype = \"i\")  ### Takes about 2-4 min\n",
    "boot.result\n",
    "boot.values <- boot.result$t\n",
    "colnames(boot.values) <-  paste(rep(c(\"Tolat_richness\", \"Shrub_richness\", \"Tree_richness\", \"Herb_richness\"), 3),\n",
    "                                rep(c(\"r2\", \"RMSE\", \"bias\"), each=4), sep=\"_\")\n",
    "par(mfrow=c(3,4), mar=c(2,3,3,1))\n",
    "for(i in 1:ncol(boot.values)){\n",
    "  hist(boot.values[,i], main=colnames(boot.values)[i], col=\"grey\", border=\"white\", xlab=\"\", ylab=\"\")\n",
    "  abline(v=quantile(boot.values[,i], probs=c(0.05, 0.95)), col=c(\"blue\", \"green\"))\n",
    "  abline(v=0, col=c(\"black\"))\n",
    "  box()\n",
    "}"
   ]
  },
  {
   "cell_type": "code",
   "execution_count": 32,
   "metadata": {
    "collapsed": false
   },
   "outputs": [
    {
     "data": {
      "text/html": [
       "<table>\n",
       "<thead><tr><th scope=col>Tolat_richness_r2</th><th scope=col>Shrub_richness_r2</th><th scope=col>Tree_richness_r2</th><th scope=col>Herb_richness_r2</th><th scope=col>Tolat_richness_RMSE</th><th scope=col>Shrub_richness_RMSE</th><th scope=col>Tree_richness_RMSE</th><th scope=col>Herb_richness_RMSE</th><th scope=col>Tolat_richness_bias</th><th scope=col>Shrub_richness_bias</th><th scope=col>Tree_richness_bias</th><th scope=col>Herb_richness_bias</th></tr></thead>\n",
       "<tbody>\n",
       "\t<tr><td> 0.076089085</td><td> 0.151674314</td><td> 0.056658242</td><td> 0.040397532</td><td> 0.448739228</td><td> 0.339205181</td><td> 0.275678092</td><td>-0.178984797</td><td>-0.017748211</td><td>-0.015271759</td><td> 0.008872432</td><td>-0.065743064</td></tr>\n",
       "\t<tr><td> 0.137347441</td><td> 0.205459751</td><td> 0.106149750</td><td> 0.098762724</td><td> 0.723121431</td><td> 0.452819187</td><td> 0.425402938</td><td>-0.019749106</td><td> 0.003839065</td><td> 0.008601196</td><td> 0.028019630</td><td>-0.033931506</td></tr>\n",
       "</tbody>\n",
       "</table>\n"
      ],
      "text/latex": [
       "\\begin{tabular}{llllllllllll}\n",
       " Tolat\\_richness\\_r2 & Shrub\\_richness\\_r2 & Tree\\_richness\\_r2 & Herb\\_richness\\_r2 & Tolat\\_richness\\_RMSE & Shrub\\_richness\\_RMSE & Tree\\_richness\\_RMSE & Herb\\_richness\\_RMSE & Tolat\\_richness\\_bias & Shrub\\_richness\\_bias & Tree\\_richness\\_bias & Herb\\_richness\\_bias\\\\\n",
       "\\hline\n",
       "\t  0.076089085 &  0.151674314 &  0.056658242 &  0.040397532 &  0.448739228 &  0.339205181 &  0.275678092 & -0.178984797 & -0.017748211 & -0.015271759 &  0.008872432 & -0.065743064\\\\\n",
       "\t  0.137347441 &  0.205459751 &  0.106149750 &  0.098762724 &  0.723121431 &  0.452819187 &  0.425402938 & -0.019749106 &  0.003839065 &  0.008601196 &  0.028019630 & -0.033931506\\\\\n",
       "\\end{tabular}\n"
      ],
      "text/markdown": [
       "1. 0.0760890853459432\n",
       "2. 0.137347441304414\n",
       "3. 0.151674314276338\n",
       "4. 0.205459750645488\n",
       "5. 0.0566582423904853\n",
       "6. 0.106149749665498\n",
       "7. 0.0403975320362957\n",
       "8. 0.0987627238667168\n",
       "9. 0.448739227549525\n",
       "10. 0.723121431255448\n",
       "11. 0.33920518079478\n",
       "12. 0.452819186658691\n",
       "13. 0.275678091618905\n",
       "14. 0.425402938044161\n",
       "15. -0.178984796645115\n",
       "16. -0.0197491063928674\n",
       "17. -0.0177482107488098\n",
       "18. 0.00383906476324147\n",
       "19. -0.0152717594731158\n",
       "20. 0.00860119583978092\n",
       "21. 0.00887243185707809\n",
       "22. 0.0280196303363924\n",
       "23. -0.0657430639463216\n",
       "24. -0.0339315063817325\n",
       "\n",
       "\n"
      ],
      "text/plain": [
       "     Tolat_richness_r2 Shrub_richness_r2 Tree_richness_r2 Herb_richness_r2\n",
       "[1,]        0.07608909         0.1516743       0.05665824       0.04039753\n",
       "[2,]        0.13734744         0.2054598       0.10614975       0.09876272\n",
       "     Tolat_richness_RMSE Shrub_richness_RMSE Tree_richness_RMSE\n",
       "[1,]           0.4487392           0.3392052          0.2756781\n",
       "[2,]           0.7231214           0.4528192          0.4254029\n",
       "     Herb_richness_RMSE Tolat_richness_bias Shrub_richness_bias\n",
       "[1,]        -0.17898480        -0.017748211        -0.015271759\n",
       "[2,]        -0.01974911         0.003839065         0.008601196\n",
       "     Tree_richness_bias Herb_richness_bias\n",
       "[1,]        0.008872432        -0.06574306\n",
       "[2,]        0.028019630        -0.03393151"
      ]
     },
     "metadata": {},
     "output_type": "display_data"
    }
   ],
   "source": [
    "### Range of the values\n",
    "apply(boot.values, 2, function(x) range(x))"
   ]
  },
  {
   "cell_type": "markdown",
   "metadata": {},
   "source": [
    "### Lower quantile needs to be larger than zero.\n",
    "### Check significance results for with an $\\alpha$ of 1 and 5%"
   ]
  },
  {
   "cell_type": "code",
   "execution_count": 33,
   "metadata": {
    "collapsed": false
   },
   "outputs": [
    {
     "data": {
      "text/html": [
       "<table>\n",
       "<thead><tr><th></th><th scope=col>1%</th><th scope=col>5%</th></tr></thead>\n",
       "<tbody>\n",
       "\t<tr><th scope=row>Tolat_richness_r2</th><td>TRUE</td><td>TRUE</td></tr>\n",
       "\t<tr><th scope=row>Shrub_richness_r2</th><td>TRUE</td><td>TRUE</td></tr>\n",
       "\t<tr><th scope=row>Tree_richness_r2</th><td>TRUE</td><td>TRUE</td></tr>\n",
       "\t<tr><th scope=row>Herb_richness_r2</th><td>TRUE</td><td>TRUE</td></tr>\n",
       "\t<tr><th scope=row>Tolat_richness_RMSE</th><td>TRUE</td><td>TRUE</td></tr>\n",
       "\t<tr><th scope=row>Shrub_richness_RMSE</th><td>TRUE</td><td>TRUE</td></tr>\n",
       "\t<tr><th scope=row>Tree_richness_RMSE</th><td>TRUE</td><td>TRUE</td></tr>\n",
       "\t<tr><th scope=row>Herb_richness_RMSE</th><td>FALSE</td><td>FALSE</td></tr>\n",
       "\t<tr><th scope=row>Tolat_richness_bias</th><td>FALSE</td><td>FALSE</td></tr>\n",
       "\t<tr><th scope=row>Shrub_richness_bias</th><td>FALSE</td><td>FALSE</td></tr>\n",
       "\t<tr><th scope=row>Tree_richness_bias</th><td>TRUE</td><td>TRUE</td></tr>\n",
       "\t<tr><th scope=row>Herb_richness_bias</th><td>FALSE</td><td>FALSE</td></tr>\n",
       "</tbody>\n",
       "</table>\n"
      ],
      "text/latex": [
       "\\begin{tabular}{r|ll}\n",
       "  & 1\\% & 5\\%\\\\\n",
       "\\hline\n",
       "\tTolat\\_richness\\_r2 & TRUE & TRUE\\\\\n",
       "\tShrub\\_richness\\_r2 & TRUE & TRUE\\\\\n",
       "\tTree\\_richness\\_r2 & TRUE & TRUE\\\\\n",
       "\tHerb\\_richness\\_r2 & TRUE & TRUE\\\\\n",
       "\tTolat\\_richness\\_RMSE & TRUE & TRUE\\\\\n",
       "\tShrub\\_richness\\_RMSE & TRUE & TRUE\\\\\n",
       "\tTree\\_richness\\_RMSE & TRUE & TRUE\\\\\n",
       "\tHerb\\_richness\\_RMSE & FALSE & FALSE\\\\\n",
       "\tTolat\\_richness\\_bias & FALSE & FALSE\\\\\n",
       "\tShrub\\_richness\\_bias & FALSE & FALSE\\\\\n",
       "\tTree\\_richness\\_bias & TRUE & TRUE\\\\\n",
       "\tHerb\\_richness\\_bias & FALSE & FALSE\\\\\n",
       "\\end{tabular}\n"
      ],
      "text/markdown": [
       "1. TRUE\n",
       "2. TRUE\n",
       "3. TRUE\n",
       "4. TRUE\n",
       "5. TRUE\n",
       "6. TRUE\n",
       "7. TRUE\n",
       "8. FALSE\n",
       "9. FALSE\n",
       "10. FALSE\n",
       "11. TRUE\n",
       "12. FALSE\n",
       "13. TRUE\n",
       "14. TRUE\n",
       "15. TRUE\n",
       "16. TRUE\n",
       "17. TRUE\n",
       "18. TRUE\n",
       "19. TRUE\n",
       "20. FALSE\n",
       "21. FALSE\n",
       "22. FALSE\n",
       "23. TRUE\n",
       "24. FALSE\n",
       "\n",
       "\n"
      ],
      "text/plain": [
       "                       1%    5%\n",
       "Tolat_richness_r2    TRUE  TRUE\n",
       "Shrub_richness_r2    TRUE  TRUE\n",
       "Tree_richness_r2     TRUE  TRUE\n",
       "Herb_richness_r2     TRUE  TRUE\n",
       "Tolat_richness_RMSE  TRUE  TRUE\n",
       "Shrub_richness_RMSE  TRUE  TRUE\n",
       "Tree_richness_RMSE   TRUE  TRUE\n",
       "Herb_richness_RMSE  FALSE FALSE\n",
       "Tolat_richness_bias FALSE FALSE\n",
       "Shrub_richness_bias FALSE FALSE\n",
       "Tree_richness_bias   TRUE  TRUE\n",
       "Herb_richness_bias  FALSE FALSE"
      ]
     },
     "metadata": {},
     "output_type": "display_data"
    }
   ],
   "source": [
    "test.result <- (t(apply(boot.values, 2, function(x) quantile(x, probs = c(0.01, 0.05)) > 0))); test.result"
   ]
  },
  {
   "cell_type": "code",
   "execution_count": null,
   "metadata": {
    "collapsed": true
   },
   "outputs": [],
   "source": [
    "# save results\n",
    "write.table(test.result, \"bootstrap_test_result.txt\")"
   ]
  }
 ],
 "metadata": {
  "kernelspec": {
   "display_name": "R",
   "language": "R",
   "name": "ir"
  },
  "language_info": {
   "codemirror_mode": "r",
   "file_extension": ".r",
   "mimetype": "text/x-r-source",
   "name": "R",
   "pygments_lexer": "r",
   "version": "3.3.0"
  }
 },
 "nbformat": 4,
 "nbformat_minor": 0
}
